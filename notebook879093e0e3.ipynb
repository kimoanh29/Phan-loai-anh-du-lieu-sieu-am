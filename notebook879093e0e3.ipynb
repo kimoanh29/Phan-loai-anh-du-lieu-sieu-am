{
 "cells": [
  {
   "cell_type": "code",
   "execution_count": 1,
   "id": "539d2c19",
   "metadata": {
    "_cell_guid": "b1076dfc-b9ad-4769-8c92-a6c4dae69d19",
    "_uuid": "8f2839f25d086af736a60e9eeb907d3b93b6e0e5",
    "execution": {
     "iopub.execute_input": "2021-11-21T14:08:58.615542Z",
     "iopub.status.busy": "2021-11-21T14:08:58.614147Z",
     "iopub.status.idle": "2021-11-21T14:08:58.629532Z",
     "shell.execute_reply": "2021-11-21T14:08:58.628699Z",
     "shell.execute_reply.started": "2021-11-21T14:08:04.300387Z"
    },
    "papermill": {
     "duration": 0.023122,
     "end_time": "2021-11-21T14:08:58.629713",
     "exception": false,
     "start_time": "2021-11-21T14:08:58.606591",
     "status": "completed"
    },
    "tags": []
   },
   "outputs": [
    {
     "data": {
      "text/plain": [
       "1"
      ]
     },
     "execution_count": 1,
     "metadata": {},
     "output_type": "execute_result"
    }
   ],
   "source": [
    "x=1\n",
    "x"
   ]
  }
 ],
 "metadata": {
  "kernelspec": {
   "display_name": "Python 3",
   "language": "python",
   "name": "python3"
  },
  "language_info": {
   "codemirror_mode": {
    "name": "ipython",
    "version": 3
   },
   "file_extension": ".py",
   "mimetype": "text/x-python",
   "name": "python",
   "nbconvert_exporter": "python",
   "pygments_lexer": "ipython3",
   "version": "3.7.10"
  },
  "papermill": {
   "default_parameters": {},
   "duration": 10.350659,
   "end_time": "2021-11-21T14:08:59.244911",
   "environment_variables": {},
   "exception": null,
   "input_path": "__notebook__.ipynb",
   "output_path": "__notebook__.ipynb",
   "parameters": {},
   "start_time": "2021-11-21T14:08:48.894252",
   "version": "2.3.3"
  }
 },
 "nbformat": 4,
 "nbformat_minor": 5
}
