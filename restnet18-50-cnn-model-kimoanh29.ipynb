{
 "cells": [
  {
   "cell_type": "code",
   "execution_count": 1,
   "id": "e9051809",
   "metadata": {
    "_cell_guid": "b1076dfc-b9ad-4769-8c92-a6c4dae69d19",
    "_uuid": "8f2839f25d086af736a60e9eeb907d3b93b6e0e5",
    "execution": {
     "iopub.execute_input": "2021-11-21T18:23:42.963552Z",
     "iopub.status.busy": "2021-11-21T18:23:42.961990Z",
     "iopub.status.idle": "2021-11-21T18:23:45.761278Z",
     "shell.execute_reply": "2021-11-21T18:23:45.761785Z",
     "shell.execute_reply.started": "2021-11-21T16:45:44.516699Z"
    },
    "papermill": {
     "duration": 2.824639,
     "end_time": "2021-11-21T18:23:45.762039",
     "exception": false,
     "start_time": "2021-11-21T18:23:42.937400",
     "status": "completed"
    },
    "tags": []
   },
   "outputs": [
    {
     "name": "stdout",
     "output_type": "stream",
     "text": [
      "You are using CUDA\n"
     ]
    }
   ],
   "source": [
    "from __future__ import print_function, division\n",
    "\n",
    "import torch\n",
    "import torch.nn as nn\n",
    "import torch.optim as optim\n",
    "import torch.nn.functional as F\n",
    "from torch.autograd import Variable\n",
    "from torch.optim import lr_scheduler\n",
    "from collections import OrderedDict\n",
    "import numpy as np\n",
    "%matplotlib inline\n",
    "import cv2\n",
    "from PIL import Image\n",
    "import torchvision\n",
    "from torchvision import datasets, models, transforms\n",
    "import matplotlib.pyplot as plt\n",
    "import time\n",
    "import os\n",
    "import copy\n",
    "import sklearn.svm\n",
    "from sklearn.model_selection import train_test_split, KFold\n",
    "from sklearn.metrics import classification_report, confusion_matrix  \n",
    "from collections import Counter\n",
    "import random\n",
    "\n",
    "data_dir = \"../input/kimoanh29/DATA_CHAMBER_2021/\"\n",
    "plt.ion()  \n",
    "\n",
    "use_gpu = torch.cuda.is_available()\n",
    "if use_gpu:\n",
    "    print(\"You are using CUDA\")"
   ]
  },
  {
   "cell_type": "code",
   "execution_count": 2,
   "id": "aebeb5ce",
   "metadata": {
    "execution": {
     "iopub.execute_input": "2021-11-21T18:23:45.808675Z",
     "iopub.status.busy": "2021-11-21T18:23:45.807997Z",
     "iopub.status.idle": "2021-11-21T18:23:54.173947Z",
     "shell.execute_reply": "2021-11-21T18:23:54.173225Z",
     "shell.execute_reply.started": "2021-11-21T16:45:48.789489Z"
    },
    "papermill": {
     "duration": 8.391917,
     "end_time": "2021-11-21T18:23:54.174090",
     "exception": false,
     "start_time": "2021-11-21T18:23:45.782173",
     "status": "completed"
    },
    "tags": []
   },
   "outputs": [
    {
     "name": "stdout",
     "output_type": "stream",
     "text": [
      "densenet161-17b70270.pth\t  resnet50-19c8e357.pth\r\n",
      "inception_v3_google-1a9a5a14.pth  squeezenet1_0-a815701f.pth\r\n",
      "resnet18-5c106cde.pth\t\t  squeezenet1_1-f364aa15.pth\r\n"
     ]
    }
   ],
   "source": [
    "import os\n",
    "from os import listdir, makedirs, getcwd, remove\n",
    "from os.path import join, exists, expanduser\n",
    "\n",
    "cache_dir = expanduser(join('~', '.torch'))\n",
    "\n",
    "if not exists(cache_dir):\n",
    "    makedirs(cache_dir)\n",
    "models_dir = join(cache_dir, 'models')\n",
    "if not exists(models_dir):\n",
    "    \n",
    "    makedirs(models_dir)\n",
    "    \n",
    "!cp ../input/pretrained-pytorch-models/* ~/.torch/models/\n",
    "!ls ~/.torch/models"
   ]
  },
  {
   "cell_type": "code",
   "execution_count": 3,
   "id": "d9205900",
   "metadata": {
    "execution": {
     "iopub.execute_input": "2021-11-21T18:23:54.217342Z",
     "iopub.status.busy": "2021-11-21T18:23:54.216629Z",
     "iopub.status.idle": "2021-11-21T18:23:54.219345Z",
     "shell.execute_reply": "2021-11-21T18:23:54.218917Z",
     "shell.execute_reply.started": "2021-11-21T16:45:54.632798Z"
    },
    "papermill": {
     "duration": 0.026738,
     "end_time": "2021-11-21T18:23:54.219480",
     "exception": false,
     "start_time": "2021-11-21T18:23:54.192742",
     "status": "completed"
    },
    "tags": []
   },
   "outputs": [],
   "source": [
    "class ImageFolderWithPaths(datasets.ImageFolder):\n",
    "    \"\"\"Custom dataset that includes image file paths. Extends\n",
    "    torchvision.datasets.ImageFolder\n",
    "    \"\"\"\n",
    "\n",
    "    # override the __getitem__ method. this is the method that dataloader calls\n",
    "    def __getitem__(self, index):\n",
    "        # this is what ImageFolder normally returns \n",
    "        original_tuple = super(ImageFolderWithPaths, self).__getitem__(index)\n",
    "        # the image file path\n",
    "        path = self.imgs[index][0]\n",
    "        # make a new tuple that includes original and the path\n",
    "        tuple_with_path = (original_tuple + (path,))\n",
    "        return tuple_with_path"
   ]
  },
  {
   "cell_type": "code",
   "execution_count": 4,
   "id": "095ba513",
   "metadata": {
    "execution": {
     "iopub.execute_input": "2021-11-21T18:23:54.259253Z",
     "iopub.status.busy": "2021-11-21T18:23:54.258475Z",
     "iopub.status.idle": "2021-11-21T18:23:54.260923Z",
     "shell.execute_reply": "2021-11-21T18:23:54.260450Z",
     "shell.execute_reply.started": "2021-11-21T16:46:06.411700Z"
    },
    "papermill": {
     "duration": 0.023838,
     "end_time": "2021-11-21T18:23:54.261040",
     "exception": false,
     "start_time": "2021-11-21T18:23:54.237202",
     "status": "completed"
    },
    "tags": []
   },
   "outputs": [],
   "source": [
    "def set_parameter_requires_grad(model, feature_extracting):\n",
    "    if feature_extracting:\n",
    "        for param in model.parameters():\n",
    "            param.requires_grad = False"
   ]
  },
  {
   "cell_type": "code",
   "execution_count": 5,
   "id": "70e16695",
   "metadata": {
    "execution": {
     "iopub.execute_input": "2021-11-21T18:23:54.317411Z",
     "iopub.status.busy": "2021-11-21T18:23:54.299781Z",
     "iopub.status.idle": "2021-11-21T18:24:00.056925Z",
     "shell.execute_reply": "2021-11-21T18:24:00.056293Z",
     "shell.execute_reply.started": "2021-11-21T16:46:09.599346Z"
    },
    "papermill": {
     "duration": 5.778016,
     "end_time": "2021-11-21T18:24:00.057057",
     "exception": false,
     "start_time": "2021-11-21T18:23:54.279041",
     "status": "completed"
    },
    "tags": []
   },
   "outputs": [
    {
     "name": "stderr",
     "output_type": "stream",
     "text": [
      "Downloading: \"https://download.pytorch.org/models/resnet50-0676ba61.pth\" to /root/.cache/torch/hub/checkpoints/resnet50-0676ba61.pth\n"
     ]
    },
    {
     "data": {
      "application/vnd.jupyter.widget-view+json": {
       "model_id": "8f62eeec6eec41a983e7f77ca6d40765",
       "version_major": 2,
       "version_minor": 0
      },
      "text/plain": [
       "  0%|          | 0.00/97.8M [00:00<?, ?B/s]"
      ]
     },
     "metadata": {},
     "output_type": "display_data"
    }
   ],
   "source": [
    "def initialize_model(model_name, num_classes, feature_extract = False, use_pretrained=True):\n",
    "    # Initialize these variables which will be set in this if statement. Each of these\n",
    "    #   variables is model specific.\n",
    "    model_ft = None\n",
    "    input_size = 0\n",
    "\n",
    "    if model_name == \"resnet18\":\n",
    "        \"\"\" Resnet18\n",
    "        \"\"\"\n",
    "        model_ft = models.resnet18(pretrained=use_pretrained)\n",
    "        set_parameter_requires_grad(model_ft, feature_extract)\n",
    "        num_ftrs = model_ft.fc.in_features\n",
    "        model_ft.fc = nn.Linear(num_ftrs, num_classes)\n",
    "        input_size = 224\n",
    "        \n",
    "    elif model_name == \"resnet50\":\n",
    "        \"\"\" Resnet50\n",
    "        \"\"\"\n",
    "        model_ft = models.resnet50(pretrained=use_pretrained)\n",
    "        set_parameter_requires_grad(model_ft, feature_extract)\n",
    "        num_ftrs = model_ft.fc.in_features\n",
    "        model_ft.fc = nn.Linear(num_ftrs, num_classes)\n",
    "        input_size = 224\n",
    "\n",
    "    elif model_name == \"alexnet\":\n",
    "        \"\"\" Alexnet\n",
    "        \"\"\"\n",
    "        model_ft = models.alexnet(pretrained=use_pretrained)\n",
    "        set_parameter_requires_grad(model_ft, feature_extract)\n",
    "        num_ftrs = model_ft.classifier[6].in_features\n",
    "        model_ft.classifier[6] = nn.Linear(num_ftrs,num_classes)\n",
    "        input_size = 224\n",
    "\n",
    "    elif model_name == \"vgg19_bn\":\n",
    "        \"\"\" VGG16_bn\n",
    "        \"\"\"\n",
    "        model_ft = models.vgg19_bn().load_state_dict(torch.load(\"../input/vgg19bn/vgg19_bn.pth\"))\n",
    "        set_parameter_requires_grad(model_ft, feature_extract)\n",
    "        num_features = vgg16.classifier[6].in_features\n",
    "        features = list(vgg16.classifier.children())[:-1] # Remove last layer\n",
    "        features.extend([nn.Linear(num_features, len(num_classes))]) # Add our layer with 4 outputs\n",
    "        vgg16.classifier = nn.Sequential(*features) # Replace the model classifier\n",
    "        input_size = 224\n",
    "    elif model_name == \"vgg16_bn\":\n",
    "        \"\"\" VGG16_bn\n",
    "        \"\"\"\n",
    "        model_ft = models.vgg16_bn().load_state_dict(torch.load(\"../input/vgg16bn/vgg16_bn.pth\"))\n",
    "        set_parameter_requires_grad(model_ft, feature_extract)\n",
    "        num_features = vgg16.classifier[6].in_features\n",
    "        features = list(vgg16.classifier.children())[:-1] # Remove last layer\n",
    "        features.extend([nn.Linear(num_features, len(num_classes))]) # Add our layer with 4 outputs\n",
    "        vgg16.classifier = nn.Sequential(*features) # Replace the model classifier\n",
    "        input_size = 224\n",
    "\n",
    "    elif model_name == \"squeezenet\":\n",
    "        \"\"\" Squeezenet\n",
    "        \"\"\"\n",
    "        model_ft = models.squeezenet1_0(pretrained=use_pretrained)\n",
    "        set_parameter_requires_grad(model_ft, feature_extract)\n",
    "        model_ft.classifier[1] = nn.Conv2d(512, num_classes, kernel_size=(1,1), stride=(1,1))\n",
    "        model_ft.num_classes = num_classes\n",
    "        input_size = 224\n",
    "\n",
    "    elif model_name == \"densenet\":\n",
    "        \"\"\" Densenet\n",
    "        \"\"\"\n",
    "        model_ft = models.densenet121(pretrained=use_pretrained)\n",
    "        set_parameter_requires_grad(model_ft, feature_extract)\n",
    "        num_ftrs = model_ft.classifier.in_features\n",
    "        model_ft.classifier = nn.Linear(num_ftrs, num_classes)\n",
    "        input_size = 224\n",
    "\n",
    "    elif model_name == \"inception\":\n",
    "        \"\"\" Inception v3\n",
    "        Be careful, expects (299,299) sized images and has auxiliary output\n",
    "        \"\"\"\n",
    "        model_ft = models.inception_v3(pretrained=use_pretrained)\n",
    "        set_parameter_requires_grad(model_ft, feature_extract)\n",
    "        # Handle the auxilary net\n",
    "        num_ftrs = model_ft.AuxLogits.fc.in_features\n",
    "        model_ft.AuxLogits.fc = nn.Linear(num_ftrs, num_classes)\n",
    "        # Handle the primary net\n",
    "        num_ftrs = model_ft.fc.in_features\n",
    "        model_ft.fc = nn.Linear(num_ftrs,num_classes)\n",
    "        input_size = 299\n",
    "\n",
    "    else:\n",
    "        print(\"Invalid model name, exiting...\")\n",
    "        exit()\n",
    "\n",
    "    return model_ft, input_size\n",
    "\n",
    "# Initialize the model for this run\n",
    "model_ft, input_size = initialize_model('resnet50',3,feature_extract = False, use_pretrained=True)\n"
   ]
  },
  {
   "cell_type": "markdown",
   "id": "eda70e1c",
   "metadata": {
    "papermill": {
     "duration": 0.018094,
     "end_time": "2021-11-21T18:24:00.094831",
     "exception": false,
     "start_time": "2021-11-21T18:24:00.076737",
     "status": "completed"
    },
    "tags": []
   },
   "source": [
    "* Preprocessing Image"
   ]
  },
  {
   "cell_type": "code",
   "execution_count": 6,
   "id": "075ed953",
   "metadata": {
    "execution": {
     "iopub.execute_input": "2021-11-21T18:24:00.137522Z",
     "iopub.status.busy": "2021-11-21T18:24:00.136675Z",
     "iopub.status.idle": "2021-11-21T18:24:00.138541Z",
     "shell.execute_reply": "2021-11-21T18:24:00.139003Z",
     "shell.execute_reply.started": "2021-11-21T16:46:27.121665Z"
    },
    "papermill": {
     "duration": 0.025899,
     "end_time": "2021-11-21T18:24:00.139125",
     "exception": false,
     "start_time": "2021-11-21T18:24:00.113226",
     "status": "completed"
    },
    "tags": []
   },
   "outputs": [],
   "source": [
    "def opening(img):\n",
    "    kernel = np.ones((5, 5), np.uint8)\n",
    "    img_erosion = cv2.erode(img, kernel, iterations=1)\n",
    "    img_dilation = cv2.dilate(img_erosion, kernel, iterations=1)\n",
    "    return img_dilation\n",
    "def denoise(img):\n",
    "    denoise_img = cv2.bilateralFilter(img, 15, 75, 75)\n",
    "    return denoise_img"
   ]
  },
  {
   "cell_type": "code",
   "execution_count": 7,
   "id": "a0e0ef12",
   "metadata": {
    "execution": {
     "iopub.execute_input": "2021-11-21T18:24:00.183254Z",
     "iopub.status.busy": "2021-11-21T18:24:00.182541Z",
     "iopub.status.idle": "2021-11-21T18:24:00.184577Z",
     "shell.execute_reply": "2021-11-21T18:24:00.184987Z",
     "shell.execute_reply.started": "2021-11-21T16:46:49.386275Z"
    },
    "papermill": {
     "duration": 0.02691,
     "end_time": "2021-11-21T18:24:00.185101",
     "exception": false,
     "start_time": "2021-11-21T18:24:00.158191",
     "status": "completed"
    },
    "tags": []
   },
   "outputs": [],
   "source": [
    "def apply_brightness_contrast(input_img, brightness = 0, contrast = 0):\n",
    "    if brightness != 0:\n",
    "        if brightness > 0:\n",
    "            shadow = brightness\n",
    "            highlight = 255\n",
    "        else:\n",
    "            shadow = 0\n",
    "            highlight = 255 + brightness\n",
    "        alpha_b = (highlight - shadow)/255\n",
    "        gamma_b = shadow\n",
    "        \n",
    "        buf = cv2.addWeighted(input_img, alpha_b, input_img, 0, gamma_b)\n",
    "    else:\n",
    "        buf = input_img.copy()\n",
    "    \n",
    "    if contrast != 0:\n",
    "        f = 131*(contrast + 127)/(127*(131-contrast))\n",
    "        alpha_c = f\n",
    "        gamma_c = 127*(1-f)\n",
    "        \n",
    "        buf = cv2.addWeighted(buf, alpha_c, buf, 0, gamma_c)\n",
    "\n",
    "    return buf"
   ]
  },
  {
   "cell_type": "code",
   "execution_count": 8,
   "id": "4a82ae29",
   "metadata": {
    "execution": {
     "iopub.execute_input": "2021-11-21T18:24:00.225832Z",
     "iopub.status.busy": "2021-11-21T18:24:00.225093Z",
     "iopub.status.idle": "2021-11-21T18:24:00.227036Z",
     "shell.execute_reply": "2021-11-21T18:24:00.227481Z",
     "shell.execute_reply.started": "2021-11-21T16:46:53.165113Z"
    },
    "papermill": {
     "duration": 0.024514,
     "end_time": "2021-11-21T18:24:00.227603",
     "exception": false,
     "start_time": "2021-11-21T18:24:00.203089",
     "status": "completed"
    },
    "tags": []
   },
   "outputs": [],
   "source": [
    "from PIL import Image\n",
    "from matplotlib import cm\n",
    "def preprocessing(img):\n",
    "    return Image.fromarray(np.uint8(apply_brightness_contrast(opening(denoise(np.array(img))),0,16)))"
   ]
  },
  {
   "cell_type": "code",
   "execution_count": 9,
   "id": "43be23e5",
   "metadata": {
    "execution": {
     "iopub.execute_input": "2021-11-21T18:24:00.272985Z",
     "iopub.status.busy": "2021-11-21T18:24:00.272470Z",
     "iopub.status.idle": "2021-11-21T18:24:06.249278Z",
     "shell.execute_reply": "2021-11-21T18:24:06.249884Z",
     "shell.execute_reply.started": "2021-11-21T16:48:13.164832Z"
    },
    "papermill": {
     "duration": 6.004182,
     "end_time": "2021-11-21T18:24:06.250081",
     "exception": false,
     "start_time": "2021-11-21T18:24:00.245899",
     "status": "completed"
    },
    "tags": []
   },
   "outputs": [
    {
     "name": "stdout",
     "output_type": "stream",
     "text": [
      "{'train': <torch.utils.data.dataloader.DataLoader object at 0x7fc4a012ae50>, 'test': <torch.utils.data.dataloader.DataLoader object at 0x7fc4a012af50>}\n"
     ]
    },
    {
     "data": {
      "text/plain": [
       "420"
      ]
     },
     "execution_count": 9,
     "metadata": {},
     "output_type": "execute_result"
    }
   ],
   "source": [
    "data_transforms = {\n",
    "    'train': transforms.Compose([\n",
    "        transforms.Resize(input_size),\n",
    "        transforms.CenterCrop(input_size),\n",
    "        preprocessing,\n",
    "        transforms.ToTensor(),\n",
    "        transforms.Normalize([0.485, 0.456, 0.406], [0.229, 0.224, 0.225])\n",
    "    ]),\n",
    "    'test': transforms.Compose([\n",
    "        transforms.Resize(input_size),\n",
    "        transforms.CenterCrop(input_size),\n",
    "        preprocessing,\n",
    "        transforms.ToTensor(),\n",
    "        transforms.Normalize([0.485, 0.456, 0.406], [0.229, 0.224, 0.225])\n",
    "    ])\n",
    "}\n",
    "\n",
    "\n",
    "\n",
    "\n",
    "image_datasets = {\n",
    "    'train': \n",
    "    ImageFolderWithPaths(data_dir + 'train', data_transforms['train']),\n",
    "    'test': \n",
    "    ImageFolderWithPaths(data_dir + 'test', data_transforms['test'])\n",
    "}\n",
    "dataset_sizes = {x: len(image_datasets[x]) for x in ['train','test']}\n",
    "\n",
    "dataloaders = {\n",
    "    'train':\n",
    "    torch.utils.data.DataLoader(image_datasets['train'],\n",
    "                                batch_size=16,\n",
    "                                shuffle=True,\n",
    "                                num_workers=2),  # for Kaggle\n",
    "    'test':\n",
    "    torch.utils.data.DataLoader(image_datasets['test'],\n",
    "                                batch_size=16,\n",
    "                                shuffle=False,\n",
    "                                num_workers=2)  # for Kaggle\n",
    "}\n",
    "label = image_datasets['train'].classes\n",
    "\n",
    "# See some statistics\n",
    "print(dataloaders)\n",
    "len(dataloaders['train'])"
   ]
  },
  {
   "cell_type": "code",
   "execution_count": 10,
   "id": "7a5375f5",
   "metadata": {
    "execution": {
     "iopub.execute_input": "2021-11-21T18:24:06.296203Z",
     "iopub.status.busy": "2021-11-21T18:24:06.294698Z",
     "iopub.status.idle": "2021-11-21T18:24:06.298500Z",
     "shell.execute_reply": "2021-11-21T18:24:06.297996Z",
     "shell.execute_reply.started": "2021-11-21T16:51:43.172453Z"
    },
    "papermill": {
     "duration": 0.028615,
     "end_time": "2021-11-21T18:24:06.298617",
     "exception": false,
     "start_time": "2021-11-21T18:24:06.270002",
     "status": "completed"
    },
    "tags": []
   },
   "outputs": [
    {
     "name": "stdout",
     "output_type": "stream",
     "text": [
      "Loaded 6717 images in train\n",
      "Loaded 1607 images in test\n",
      "Classes: \n",
      "['2C', '3C', '4C']\n"
     ]
    }
   ],
   "source": [
    "for x in ['train', 'test']:\n",
    "    print(\"Loaded {} images in {}\".format(dataset_sizes[x], x))\n",
    "    \n",
    "print(\"Classes: \")\n",
    "\n",
    "label = image_datasets['train'].classes\n",
    "print(image_datasets['train'].classes)"
   ]
  },
  {
   "cell_type": "code",
   "execution_count": 11,
   "id": "6e8d9837",
   "metadata": {
    "execution": {
     "iopub.execute_input": "2021-11-21T18:24:06.344142Z",
     "iopub.status.busy": "2021-11-21T18:24:06.343639Z",
     "iopub.status.idle": "2021-11-21T18:24:08.855381Z",
     "shell.execute_reply": "2021-11-21T18:24:08.854894Z",
     "shell.execute_reply.started": "2021-11-21T16:51:47.108770Z"
    },
    "papermill": {
     "duration": 2.537714,
     "end_time": "2021-11-21T18:24:08.855504",
     "exception": false,
     "start_time": "2021-11-21T18:24:06.317790",
     "status": "completed"
    },
    "tags": []
   },
   "outputs": [
    {
     "data": {
      "image/png": "[encoded data removed]",
      "text/plain": [
       "<Figure size 432x288 with 1 Axes>"
      ]
     },
     "metadata": {
      "needs_background": "light"
     },
     "output_type": "display_data"
    }
   ],
   "source": [
    "import numpy as np\n",
    "import matplotlib.pyplot as plt\n",
    "plt.ion()   # interactive mode\n",
    "\n",
    "def imshow(inp, title=None):\n",
    "    \"\"\"Imshow for Tensor.\"\"\"\n",
    "    inp = inp.numpy().transpose((1, 2, 0))\n",
    "    mean = np.array([0.485, 0.456, 0.406])\n",
    "    std = np.array([0.229, 0.224, 0.225])\n",
    "    inp = std * inp + mean\n",
    "    inp = np.clip(inp, 0, 1)\n",
    "    plt.imshow(inp)\n",
    "    if title is not None:\n",
    "        plt.title(title)\n",
    "    plt.pause(0.001) \n",
    "\n",
    "# Get a batch of training data\n",
    "inputs, classes,_ = next(iter(dataloaders['train']))\n",
    "\n",
    "# Make a grid from batch\n",
    "out = torchvision.utils.make_grid(inputs)\n",
    "\n",
    "imshow(out, title=[label[x] for x in classes])"
   ]
  },
  {
   "cell_type": "markdown",
   "id": "7df949ad",
   "metadata": {
    "papermill": {
     "duration": 0.020948,
     "end_time": "2021-11-21T18:24:08.897469",
     "exception": false,
     "start_time": "2021-11-21T18:24:08.876521",
     "status": "completed"
    },
    "tags": []
   },
   "source": [
    "* Training model"
   ]
  },
  {
   "cell_type": "code",
   "execution_count": 12,
   "id": "eadcf4f3",
   "metadata": {
    "execution": {
     "iopub.execute_input": "2021-11-21T18:24:08.954314Z",
     "iopub.status.busy": "2021-11-21T18:24:08.953145Z",
     "iopub.status.idle": "2021-11-21T18:24:08.956157Z",
     "shell.execute_reply": "2021-11-21T18:24:08.956574Z",
     "shell.execute_reply.started": "2021-11-21T17:50:33.805910Z"
    },
    "papermill": {
     "duration": 0.038177,
     "end_time": "2021-11-21T18:24:08.956703",
     "exception": false,
     "start_time": "2021-11-21T18:24:08.918526",
     "status": "completed"
    },
    "tags": []
   },
   "outputs": [],
   "source": [
    "def train_model(model, criterion, optimizer, scheduler,\n",
    "                num_epochs=10, is_inception=False, device = 'cuda'):\n",
    "    since = time.time()\n",
    "\n",
    "    best_model_wts = copy.deepcopy(model.state_dict())\n",
    "    best_acc = 0.0\n",
    "    loss_values = []\n",
    "    acc_values = []\n",
    "\n",
    "    for epoch in range(num_epochs):\n",
    "        print('Epoch {}/{}'.format(epoch, num_epochs - 1))\n",
    "        print('-' * 10)\n",
    "\n",
    "        # Each epoch has a training and validation phase\n",
    "        for phase in ['train', 'test']:\n",
    "            train_batches = len(dataloaders[phase])\n",
    "            if phase == 'train':\n",
    "                scheduler.step()\n",
    "                model.train()  # Set model to training mode\n",
    "            else:\n",
    "                model.eval()   # Set model to evaluate mode\n",
    "\n",
    "            running_loss = 0.0\n",
    "            running_corrects = 0\n",
    "\n",
    "            # Iterate over data.\n",
    "            for i,(inputs, labels,_) in enumerate(dataloaders[phase]):\n",
    "                print(\"\\rTraining batch {}/{}\".format(i+1, train_batches), end='', flush=True)\n",
    "                inputs = inputs.to(device)\n",
    "                labels = labels.to(device)\n",
    "\n",
    "                # zero the parameter gradients\n",
    "                optimizer.zero_grad()\n",
    "\n",
    "                # forward\n",
    "                # track history if only in train\n",
    "                with torch.set_grad_enabled(phase == 'train'):\n",
    "                \n",
    "                    if is_inception and phase == 'train':\n",
    "                        # From https://discuss.pytorch.org/t/how-to-optimize-inception-model-with-auxiliary-classifiers/7958\n",
    "                        outputs, aux_outputs = model(inputs)\n",
    "                        loss1 = criterion(outputs, labels)\n",
    "                        loss2 = criterion(aux_outputs, labels)\n",
    "                        loss = loss1 + 0.4*loss2\n",
    "                    else:\n",
    "                        outputs = model(inputs)\n",
    "                        loss = criterion(outputs, labels)\n",
    "\n",
    "                    # backward + optimize only if in training phase\n",
    "                    if phase == 'train':\n",
    "                        loss.backward()\n",
    "                        optimizer.step()\n",
    "                        \n",
    "                    _, preds = torch.max(outputs, 1)\n",
    "                    \n",
    "                # statistics\n",
    "                running_loss += loss.item() * inputs.size(0)\n",
    "                running_corrects += torch.sum(preds == labels.data)\n",
    "\n",
    "            epoch_loss = running_loss / dataset_sizes[phase]\n",
    "            epoch_acc = running_corrects.double() / dataset_sizes[phase]\n",
    "            loss_values.append(epoch_loss)\n",
    "            acc_values.append(epoch_acc)\n",
    "\n",
    "            print('\\n{} Loss: {:.4f} Acc: {:.4f}'.format(\n",
    "                phase, epoch_loss, epoch_acc))\n",
    "\n",
    "            # deep copy the model\n",
    "            if phase == 'test' and epoch_acc > best_acc:\n",
    "                best_acc = epoch_acc\n",
    "                best_model_wts = copy.deepcopy(model.state_dict())\n",
    "\n",
    "        print()\n",
    "\n",
    "    time_elapsed = time.time() - since\n",
    "    print('Training complete in {:.0f}m {:.0f}s'.format(\n",
    "        time_elapsed // 60, time_elapsed % 60))\n",
    "    print('Best val Acc: {:4f}'.format(best_acc))\n",
    "\n",
    "    # load best model weights\n",
    "    model.load_state_dict(best_model_wts)\n",
    "    return model,acc_values,loss_values"
   ]
  },
  {
   "cell_type": "markdown",
   "id": "b3d31795",
   "metadata": {
    "papermill": {
     "duration": 0.020935,
     "end_time": "2021-11-21T18:24:08.998668",
     "exception": false,
     "start_time": "2021-11-21T18:24:08.977733",
     "status": "completed"
    },
    "tags": []
   },
   "source": [
    "* Visualizing the model predictions\n",
    "* Generic function to display predictions for a few images"
   ]
  },
  {
   "cell_type": "code",
   "execution_count": 13,
   "id": "7ca1c00e",
   "metadata": {
    "execution": {
     "iopub.execute_input": "2021-11-21T18:24:09.049254Z",
     "iopub.status.busy": "2021-11-21T18:24:09.048467Z",
     "iopub.status.idle": "2021-11-21T18:24:09.050918Z",
     "shell.execute_reply": "2021-11-21T18:24:09.050485Z",
     "shell.execute_reply.started": "2021-11-21T17:50:38.143626Z"
    },
    "papermill": {
     "duration": 0.031577,
     "end_time": "2021-11-21T18:24:09.051020",
     "exception": false,
     "start_time": "2021-11-21T18:24:09.019443",
     "status": "completed"
    },
    "tags": []
   },
   "outputs": [],
   "source": [
    "def visualize_model(model, num_images=6):\n",
    "    was_training = model.training\n",
    "    model.eval()\n",
    "    images_so_far = 0\n",
    "    fig = plt.figure()\n",
    "\n",
    "    with torch.no_grad():\n",
    "        for i, (inputs, labels) in enumerate(dataloaders['test']):\n",
    "            inputs = inputs.to(device)\n",
    "            labels = labels.to(device)\n",
    "\n",
    "            outputs = model(inputs)\n",
    "            _, preds = torch.max(outputs, 1)\n",
    "\n",
    "            for j in range(inputs.size()[0]):\n",
    "                images_so_far += 1\n",
    "                ax = plt.subplot(num_images//2, 2, images_so_far)\n",
    "                ax.axis('off')\n",
    "                ax.set_title('predicted: {}'.format(class_names[preds[j]]))\n",
    "                imshow(inputs.cpu().data[j])\n",
    "\n",
    "                if images_so_far == num_images:\n",
    "                    model.train(mode=was_training)\n",
    "                    return model.train(mode=was_training)"
   ]
  },
  {
   "cell_type": "code",
   "execution_count": 14,
   "id": "ae984af7",
   "metadata": {
    "execution": {
     "iopub.execute_input": "2021-11-21T18:24:09.095823Z",
     "iopub.status.busy": "2021-11-21T18:24:09.095043Z",
     "iopub.status.idle": "2021-11-21T18:24:09.102455Z",
     "shell.execute_reply": "2021-11-21T18:24:09.102000Z",
     "shell.execute_reply.started": "2021-11-21T17:50:42.715503Z"
    },
    "papermill": {
     "duration": 0.031132,
     "end_time": "2021-11-21T18:24:09.102565",
     "exception": false,
     "start_time": "2021-11-21T18:24:09.071433",
     "status": "completed"
    },
    "tags": []
   },
   "outputs": [],
   "source": [
    "def test_model(model, criterion, optimizer):\n",
    "    labels_input=list()\n",
    "    labels_output=list()\n",
    "    vid_id = list()\n",
    "    for phase in ['test']:\n",
    "        model.eval()\n",
    "\n",
    "        running_loss = 0.0\n",
    "        running_corrects = 0\n",
    "\n",
    "        for inputs, labels, fname in dataloaders[phase]:\n",
    "            inputs = inputs.to(device)\n",
    "            labels = labels.to(device)\n",
    "            labels_input= labels_input + labels.tolist()\n",
    "            for f in fname:\n",
    "                vid_id.append(f.split('/')[-1].split('.')[0].split('_')[0])\n",
    "            outputs = model(inputs)\n",
    "            \n",
    "            loss = criterion(outputs, labels)\n",
    "            _, preds = torch.max(outputs, 1)\n",
    "            \n",
    "            labels_output= labels_output + preds.tolist()\n",
    "    return labels_input,labels_output,vid_id"
   ]
  },
  {
   "cell_type": "code",
   "execution_count": 15,
   "id": "ae445656",
   "metadata": {
    "execution": {
     "iopub.execute_input": "2021-11-21T18:24:09.153348Z",
     "iopub.status.busy": "2021-11-21T18:24:09.152645Z",
     "iopub.status.idle": "2021-11-21T18:24:11.975689Z",
     "shell.execute_reply": "2021-11-21T18:24:11.974578Z",
     "shell.execute_reply.started": "2021-11-21T17:50:48.137839Z"
    },
    "papermill": {
     "duration": 2.85185,
     "end_time": "2021-11-21T18:24:11.975825",
     "exception": false,
     "start_time": "2021-11-21T18:24:09.123975",
     "status": "completed"
    },
    "tags": []
   },
   "outputs": [],
   "source": [
    "from torch.optim import lr_scheduler\n",
    "\n",
    "device = torch.device(\"cuda:0\" if torch.cuda.is_available() else \"cpu\")\n",
    "\n",
    "model_ft = model_ft.to(device)\n",
    "\n",
    "params_to_update = []\n",
    "for name,param in model_ft.named_parameters():\n",
    "    if param.requires_grad == True:\n",
    "        params_to_update.append(param)\n",
    "\n",
    "optimizer_conv = optim.SGD(params_to_update, lr=0.01, momentum=0.9)\n",
    "\n",
    "criterion = nn.CrossEntropyLoss()\n",
    "# Decay LR by a factor of 0.1 every 3 epochs\n",
    "exp_lr_scheduler = lr_scheduler.StepLR(optimizer_conv, step_size=3, gamma=0.1)"
   ]
  },
  {
   "cell_type": "code",
   "execution_count": 16,
   "id": "e8b2a4e2",
   "metadata": {
    "execution": {
     "iopub.execute_input": "2021-11-21T18:24:12.027142Z",
     "iopub.status.busy": "2021-11-21T18:24:12.021842Z",
     "iopub.status.idle": "2021-11-21T18:44:14.394325Z",
     "shell.execute_reply": "2021-11-21T18:44:14.394768Z",
     "shell.execute_reply.started": "2021-11-21T17:56:40.066676Z"
    },
    "papermill": {
     "duration": 1202.39754,
     "end_time": "2021-11-21T18:44:14.394948",
     "exception": false,
     "start_time": "2021-11-21T18:24:11.997408",
     "status": "completed"
    },
    "tags": []
   },
   "outputs": [
    {
     "name": "stdout",
     "output_type": "stream",
     "text": [
      "Epoch 0/4\n",
      "----------\n"
     ]
    },
    {
     "name": "stderr",
     "output_type": "stream",
     "text": [
      "/opt/conda/lib/python3.7/site-packages/torch/optim/lr_scheduler.py:134: UserWarning: Detected call of `lr_scheduler.step()` before `optimizer.step()`. In PyTorch 1.1.0 and later, you should call them in the opposite order: `optimizer.step()` before `lr_scheduler.step()`.  Failure to do this will result in PyTorch skipping the first value of the learning rate schedule. See more details at https://pytorch.org/docs/stable/optim.html#how-to-adjust-learning-rate\n",
      "  \"https://pytorch.org/docs/stable/optim.html#how-to-adjust-learning-rate\", UserWarning)\n"
     ]
    },
    {
     "name": "stdout",
     "output_type": "stream",
     "text": [
      "Training batch 420/420\n",
      "train Loss: 0.2596 Acc: 0.9090\n",
      "Training batch 101/101\n",
      "test Loss: 0.8148 Acc: 0.7231\n",
      "\n",
      "Epoch 1/4\n",
      "----------\n",
      "Training batch 420/420\n",
      "train Loss: 0.0164 Acc: 0.9952\n",
      "Training batch 101/101\n",
      "test Loss: 0.2882 Acc: 0.8979\n",
      "\n",
      "Epoch 2/4\n",
      "----------\n",
      "Training batch 420/420\n",
      "train Loss: 0.0029 Acc: 0.9991\n",
      "Training batch 101/101\n",
      "test Loss: 0.2806 Acc: 0.9048\n",
      "\n",
      "Epoch 3/4\n",
      "----------\n",
      "Training batch 420/420\n",
      "train Loss: 0.0014 Acc: 0.9997\n",
      "Training batch 101/101\n",
      "test Loss: 0.3413 Acc: 0.8836\n",
      "\n",
      "Epoch 4/4\n",
      "----------\n",
      "Training batch 420/420\n",
      "train Loss: 0.0007 Acc: 0.9999\n",
      "Training batch 101/101\n",
      "test Loss: 0.3608 Acc: 0.8799\n",
      "\n",
      "Training complete in 20m 2s\n",
      "Best val Acc: 0.904792\n"
     ]
    }
   ],
   "source": [
    "model_ft,acc,loss = train_model(model_ft, criterion, optimizer_conv,\n",
    "                         exp_lr_scheduler, num_epochs=5, is_inception=False, device = 'cuda')"
   ]
  },
  {
   "cell_type": "code",
   "execution_count": 17,
   "id": "fff18434",
   "metadata": {
    "execution": {
     "iopub.execute_input": "2021-11-21T18:44:15.789207Z",
     "iopub.status.busy": "2021-11-21T18:44:15.788279Z",
     "iopub.status.idle": "2021-11-21T18:44:16.120537Z",
     "shell.execute_reply": "2021-11-21T18:44:16.120067Z",
     "shell.execute_reply.started": "2021-11-21T18:18:55.460604Z"
    },
    "papermill": {
     "duration": 1.036507,
     "end_time": "2021-11-21T18:44:16.120666",
     "exception": false,
     "start_time": "2021-11-21T18:44:15.084159",
     "status": "completed"
    },
    "tags": []
   },
   "outputs": [
    {
     "data": {
      "image/png": "[encoded data removed]",
      "text/plain": [
       "<Figure size 432x288 with 2 Axes>"
      ]
     },
     "metadata": {
      "needs_background": "light"
     },
     "output_type": "display_data"
    }
   ],
   "source": [
    "def plot_history(history,loss,acc): \n",
    "    fig, ax1 = plt.subplots()\n",
    "    \n",
    "    ax1.plot(loss, 'r', label=\"training loss\")\n",
    "    ax1.grid(True)\n",
    "    ax1.set_xlabel('iteration')\n",
    "    ax1.set_ylabel('loss', color='r')\n",
    "    ax1.legend(loc=\"lower right\", fontsize=9)    \n",
    "    ax1.tick_params('y', colors='r')\n",
    "\n",
    "    ax2 = ax1.twinx()\n",
    "    ax2.plot(acc, 'b', label=\"training acc\")\n",
    "    ax2.legend(loc=\"upper right\", fontsize=9)\n",
    "    ax2.set_ylabel('acc', color='b')        \n",
    "    ax2.tick_params('y', colors='b')\n",
    "\n",
    "plot_history(model_ft,loss,acc)\n"
   ]
  },
  {
   "cell_type": "markdown",
   "id": "e26eee1d",
   "metadata": {
    "papermill": {
     "duration": 0.691544,
     "end_time": "2021-11-21T18:44:17.496841",
     "exception": false,
     "start_time": "2021-11-21T18:44:16.805297",
     "status": "completed"
    },
    "tags": []
   },
   "source": [
    "* Frame accuracy score"
   ]
  },
  {
   "cell_type": "code",
   "execution_count": 18,
   "id": "cf8b5e88",
   "metadata": {
    "execution": {
     "iopub.execute_input": "2021-11-21T18:44:19.123893Z",
     "iopub.status.busy": "2021-11-21T18:44:19.122952Z",
     "iopub.status.idle": "2021-11-21T18:45:03.027682Z",
     "shell.execute_reply": "2021-11-21T18:45:03.028191Z",
     "shell.execute_reply.started": "2021-11-21T18:20:16.017795Z"
    },
    "papermill": {
     "duration": 44.699788,
     "end_time": "2021-11-21T18:45:03.028353",
     "exception": false,
     "start_time": "2021-11-21T18:44:18.328565",
     "status": "completed"
    },
    "tags": []
   },
   "outputs": [
    {
     "data": {
      "text/plain": [
       "0.9047915370255134"
      ]
     },
     "execution_count": 18,
     "metadata": {},
     "output_type": "execute_result"
    }
   ],
   "source": [
    "y_true,y_pred,vid_id = test_model(model_ft, criterion, optimizer_conv)\n",
    "\n",
    "from sklearn.metrics import accuracy_score\n",
    "accuracy_score(y_true,y_pred)"
   ]
  },
  {
   "cell_type": "code",
   "execution_count": 19,
   "id": "17ffb2a9",
   "metadata": {
    "execution": {
     "iopub.execute_input": "2021-11-21T18:45:04.426380Z",
     "iopub.status.busy": "2021-11-21T18:45:04.425517Z",
     "iopub.status.idle": "2021-11-21T18:45:04.477943Z",
     "shell.execute_reply": "2021-11-21T18:45:04.478319Z",
     "shell.execute_reply.started": "2021-11-21T18:22:37.138852Z"
    },
    "papermill": {
     "duration": 0.762644,
     "end_time": "2021-11-21T18:45:04.478503",
     "exception": false,
     "start_time": "2021-11-21T18:45:03.715859",
     "status": "completed"
    },
    "tags": []
   },
   "outputs": [],
   "source": [
    "import pandas as pd\n",
    "import glob\n",
    "\n",
    "\n",
    "df = pd.DataFrame(list(zip(y_true,y_pred,vid_id)),columns =['y_true','y_pred','vid_id'])\n",
    "df.to_csv('df.csv',encoding='utf-8',index=False)\n",
    "\n",
    "vid_list = list(set(df['vid_id'].values))\n",
    "y_true = []\n",
    "y_pred = []\n",
    "for vid in vid_list:\n",
    "    #print(vid)\n",
    "    tmp_df = df[df['vid_id']==vid]\n",
    "    #print(len(tmp_df))\n",
    "    vid_pred = tmp_df['y_pred'].mode().values[0]\n",
    "    vid_label = tmp_df['y_true'].mode().values[0]\n",
    "    y_true.append(vid_label)\n",
    "    y_pred.append(vid_pred)"
   ]
  },
  {
   "cell_type": "markdown",
   "id": "87e58210",
   "metadata": {
    "papermill": {
     "duration": 0.72651,
     "end_time": "2021-11-21T18:45:05.895568",
     "exception": false,
     "start_time": "2021-11-21T18:45:05.169058",
     "status": "completed"
    },
    "tags": []
   },
   "source": [
    "* Kết quả dự đoán video theo cơ chế voting dựa vào kết quả dự đoán các frame"
   ]
  },
  {
   "cell_type": "code",
   "execution_count": 20,
   "id": "b47a10d4",
   "metadata": {
    "execution": {
     "iopub.execute_input": "2021-11-21T18:45:07.273742Z",
     "iopub.status.busy": "2021-11-21T18:45:07.273031Z",
     "iopub.status.idle": "2021-11-21T18:45:07.275897Z",
     "shell.execute_reply": "2021-11-21T18:45:07.276497Z",
     "shell.execute_reply.started": "2021-11-21T18:22:25.331477Z"
    },
    "papermill": {
     "duration": 0.696207,
     "end_time": "2021-11-21T18:45:07.276664",
     "exception": false,
     "start_time": "2021-11-21T18:45:06.580457",
     "status": "completed"
    },
    "tags": []
   },
   "outputs": [
    {
     "data": {
      "text/plain": [
       "0.9487179487179487"
      ]
     },
     "execution_count": 20,
     "metadata": {},
     "output_type": "execute_result"
    }
   ],
   "source": [
    "accuracy_score(y_true,y_pred)"
   ]
  },
  {
   "cell_type": "markdown",
   "id": "af35f0f5",
   "metadata": {
    "papermill": {
     "duration": 0.696098,
     "end_time": "2021-11-21T18:45:08.669216",
     "exception": false,
     "start_time": "2021-11-21T18:45:07.973118",
     "status": "completed"
    },
    "tags": []
   },
   "source": []
  }
 ],
 "metadata": {
  "kernelspec": {
   "display_name": "Python 3",
   "language": "python",
   "name": "python3"
  },
  "language_info": {
   "codemirror_mode": {
    "name": "ipython",
    "version": 3
   },
   "file_extension": ".py",
   "mimetype": "text/x-python",
   "name": "python",
   "nbconvert_exporter": "python",
   "pygments_lexer": "ipython3",
   "version": "3.7.10"
  },
  "papermill": {
   "default_parameters": {},
   "duration": 1295.201464,
   "end_time": "2021-11-21T18:45:10.868694",
   "environment_variables": {},
   "exception": null,
   "input_path": "__notebook__.ipynb",
   "output_path": "__notebook__.ipynb",
   "parameters": {},
   "start_time": "2021-11-21T18:23:35.667230",
   "version": "2.3.3"
  },
  "widgets": {
   "application/vnd.jupyter.widget-state+json": {
    "state": {
     "1ab8c8adb05644aa8cb6e2825fcaa521": {
      "model_module": "@jupyter-widgets/controls",
      "model_module_version": "1.5.0",
      "model_name": "HTMLModel",
      "state": {
       "_dom_classes": [],
       "_model_module": "@jupyter-widgets/controls",
       "_model_module_version": "1.5.0",
       "_model_name": "HTMLModel",
       "_view_count": null,
       "_view_module": "@jupyter-widgets/controls",
       "_view_module_version": "1.5.0",
       "_view_name": "HTMLView",
       "description": "",
       "description_tooltip": null,
       "layout": "IPY_MODEL_ed7c353b7be04527899e69ffe165864d",
       "placeholder": "​",
       "style": "IPY_MODEL_f1bc8466f15c477fa4201192578a11a9",
       "value": " 97.8M/97.8M [00:04&lt;00:00, 25.5MB/s]"
      }
     },
     "1e6ddd920f484cdeb786b338af3286db": {
      "model_module": "@jupyter-widgets/base",
      "model_module_version": "1.2.0",
      "model_name": "LayoutModel",
      "state": {
       "_model_module": "@jupyter-widgets/base",
       "_model_module_version": "1.2.0",
       "_model_name": "LayoutModel",
       "_view_count": null,
       "_view_module": "@jupyter-widgets/base",
       "_view_module_version": "1.2.0",
       "_view_name": "LayoutView",
       "align_content": null,
       "align_items": null,
       "align_self": null,
       "border": null,
       "bottom": null,
       "display": null,
       "flex": null,
       "flex_flow": null,
       "grid_area": null,
       "grid_auto_columns": null,
       "grid_auto_flow": null,
       "grid_auto_rows": null,
       "grid_column": null,
       "grid_gap": null,
       "grid_row": null,
       "grid_template_areas": null,
       "grid_template_columns": null,
       "grid_template_rows": null,
       "height": null,
       "justify_content": null,
       "justify_items": null,
       "left": null,
       "margin": null,
       "max_height": null,
       "max_width": null,
       "min_height": null,
       "min_width": null,
       "object_fit": null,
       "object_position": null,
       "order": null,
       "overflow": null,
       "overflow_x": null,
       "overflow_y": null,
       "padding": null,
       "right": null,
       "top": null,
       "visibility": null,
       "width": null
      }
     },
     "49edb6eb31c14c15b57a227178e3392f": {
      "model_module": "@jupyter-widgets/base",
      "model_module_version": "1.2.0",
      "model_name": "LayoutModel",
      "state": {
       "_model_module": "@jupyter-widgets/base",
       "_model_module_version": "1.2.0",
       "_model_name": "LayoutModel",
       "_view_count": null,
       "_view_module": "@jupyter-widgets/base",
       "_view_module_version": "1.2.0",
       "_view_name": "LayoutView",
       "align_content": null,
       "align_items": null,
       "align_self": null,
       "border": null,
       "bottom": null,
       "display": null,
       "flex": null,
       "flex_flow": null,
       "grid_area": null,
       "grid_auto_columns": null,
       "grid_auto_flow": null,
       "grid_auto_rows": null,
       "grid_column": null,
       "grid_gap": null,
       "grid_row": null,
       "grid_template_areas": null,
       "grid_template_columns": null,
       "grid_template_rows": null,
       "height": null,
       "justify_content": null,
       "justify_items": null,
       "left": null,
       "margin": null,
       "max_height": null,
       "max_width": null,
       "min_height": null,
       "min_width": null,
       "object_fit": null,
       "object_position": null,
       "order": null,
       "overflow": null,
       "overflow_x": null,
       "overflow_y": null,
       "padding": null,
       "right": null,
       "top": null,
       "visibility": null,
       "width": null
      }
     },
     "8f62eeec6eec41a983e7f77ca6d40765": {
      "model_module": "@jupyter-widgets/controls",
      "model_module_version": "1.5.0",
      "model_name": "HBoxModel",
      "state": {
       "_dom_classes": [],
       "_model_module": "@jupyter-widgets/controls",
       "_model_module_version": "1.5.0",
       "_model_name": "HBoxModel",
       "_view_count": null,
       "_view_module": "@jupyter-widgets/controls",
       "_view_module_version": "1.5.0",
       "_view_name": "HBoxView",
       "box_style": "",
       "children": [
        "IPY_MODEL_c2c547a76186494091201523811adb29",
        "IPY_MODEL_ca8ca75634ca4271981ab860a599b991",
        "IPY_MODEL_1ab8c8adb05644aa8cb6e2825fcaa521"
       ],
       "layout": "IPY_MODEL_49edb6eb31c14c15b57a227178e3392f"
      }
     },
     "927cd3eafb7841c395d8229027a3f06d": {
      "model_module": "@jupyter-widgets/controls",
      "model_module_version": "1.5.0",
      "model_name": "DescriptionStyleModel",
      "state": {
       "_model_module": "@jupyter-widgets/controls",
       "_model_module_version": "1.5.0",
       "_model_name": "DescriptionStyleModel",
       "_view_count": null,
       "_view_module": "@jupyter-widgets/base",
       "_view_module_version": "1.2.0",
       "_view_name": "StyleView",
       "description_width": ""
      }
     },
     "9c14db7c2a994038a061aa2c889c9720": {
      "model_module": "@jupyter-widgets/base",
      "model_module_version": "1.2.0",
      "model_name": "LayoutModel",
      "state": {
       "_model_module": "@jupyter-widgets/base",
       "_model_module_version": "1.2.0",
       "_model_name": "LayoutModel",
       "_view_count": null,
       "_view_module": "@jupyter-widgets/base",
       "_view_module_version": "1.2.0",
       "_view_name": "LayoutView",
       "align_content": null,
       "align_items": null,
       "align_self": null,
       "border": null,
       "bottom": null,
       "display": null,
       "flex": null,
       "flex_flow": null,
       "grid_area": null,
       "grid_auto_columns": null,
       "grid_auto_flow": null,
       "grid_auto_rows": null,
       "grid_column": null,
       "grid_gap": null,
       "grid_row": null,
       "grid_template_areas": null,
       "grid_template_columns": null,
       "grid_template_rows": null,
       "height": null,
       "justify_content": null,
       "justify_items": null,
       "left": null,
       "margin": null,
       "max_height": null,
       "max_width": null,
       "min_height": null,
       "min_width": null,
       "object_fit": null,
       "object_position": null,
       "order": null,
       "overflow": null,
       "overflow_x": null,
       "overflow_y": null,
       "padding": null,
       "right": null,
       "top": null,
       "visibility": null,
       "width": null
      }
     },
     "c0d3a56cf8f045a4b0aeeb476e6c1b28": {
      "model_module": "@jupyter-widgets/controls",
      "model_module_version": "1.5.0",
      "model_name": "ProgressStyleModel",
      "state": {
       "_model_module": "@jupyter-widgets/controls",
       "_model_module_version": "1.5.0",
       "_model_name": "ProgressStyleModel",
       "_view_count": null,
       "_view_module": "@jupyter-widgets/base",
       "_view_module_version": "1.2.0",
       "_view_name": "StyleView",
       "bar_color": null,
       "description_width": ""
      }
     },
     "c2c547a76186494091201523811adb29": {
      "model_module": "@jupyter-widgets/controls",
      "model_module_version": "1.5.0",
      "model_name": "HTMLModel",
      "state": {
       "_dom_classes": [],
       "_model_module": "@jupyter-widgets/controls",
       "_model_module_version": "1.5.0",
       "_model_name": "HTMLModel",
       "_view_count": null,
       "_view_module": "@jupyter-widgets/controls",
       "_view_module_version": "1.5.0",
       "_view_name": "HTMLView",
       "description": "",
       "description_tooltip": null,
       "layout": "IPY_MODEL_9c14db7c2a994038a061aa2c889c9720",
       "placeholder": "​",
       "style": "IPY_MODEL_927cd3eafb7841c395d8229027a3f06d",
       "value": "100%"
      }
     },
     "ca8ca75634ca4271981ab860a599b991": {
      "model_module": "@jupyter-widgets/controls",
      "model_module_version": "1.5.0",
      "model_name": "FloatProgressModel",
      "state": {
       "_dom_classes": [],
       "_model_module": "@jupyter-widgets/controls",
       "_model_module_version": "1.5.0",
       "_model_name": "FloatProgressModel",
       "_view_count": null,
       "_view_module": "@jupyter-widgets/controls",
       "_view_module_version": "1.5.0",
       "_view_name": "ProgressView",
       "bar_style": "success",
       "description": "",
       "description_tooltip": null,
       "layout": "IPY_MODEL_1e6ddd920f484cdeb786b338af3286db",
       "max": 102530333.0,
       "min": 0.0,
       "orientation": "horizontal",
       "style": "IPY_MODEL_c0d3a56cf8f045a4b0aeeb476e6c1b28",
       "value": 102530333.0
      }
     },
     "ed7c353b7be04527899e69ffe165864d": {
      "model_module": "@jupyter-widgets/base",
      "model_module_version": "1.2.0",
      "model_name": "LayoutModel",
      "state": {
       "_model_module": "@jupyter-widgets/base",
       "_model_module_version": "1.2.0",
       "_model_name": "LayoutModel",
       "_view_count": null,
       "_view_module": "@jupyter-widgets/base",
       "_view_module_version": "1.2.0",
       "_view_name": "LayoutView",
       "align_content": null,
       "align_items": null,
       "align_self": null,
       "border": null,
       "bottom": null,
       "display": null,
       "flex": null,
       "flex_flow": null,
       "grid_area": null,
       "grid_auto_columns": null,
       "grid_auto_flow": null,
       "grid_auto_rows": null,
       "grid_column": null,
       "grid_gap": null,
       "grid_row": null,
       "grid_template_areas": null,
       "grid_template_columns": null,
       "grid_template_rows": null,
       "height": null,
       "justify_content": null,
       "justify_items": null,
       "left": null,
       "margin": null,
       "max_height": null,
       "max_width": null,
       "min_height": null,
       "min_width": null,
       "object_fit": null,
       "object_position": null,
       "order": null,
       "overflow": null,
       "overflow_x": null,
       "overflow_y": null,
       "padding": null,
       "right": null,
       "top": null,
       "visibility": null,
       "width": null
      }
     },
     "f1bc8466f15c477fa4201192578a11a9": {
      "model_module": "@jupyter-widgets/controls",
      "model_module_version": "1.5.0",
      "model_name": "DescriptionStyleModel",
      "state": {
       "_model_module": "@jupyter-widgets/controls",
       "_model_module_version": "1.5.0",
       "_model_name": "DescriptionStyleModel",
       "_view_count": null,
       "_view_module": "@jupyter-widgets/base",
       "_view_module_version": "1.2.0",
       "_view_name": "StyleView",
       "description_width": ""
      }
     }
    },
    "version_major": 2,
    "version_minor": 0
   }
  }
 },
 "nbformat": 4,
 "nbformat_minor": 5
}
