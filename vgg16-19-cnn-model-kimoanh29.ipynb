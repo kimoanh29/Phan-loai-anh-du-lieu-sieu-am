{
 "cells": [
  {
   "cell_type": "code",
   "execution_count": 1,
   "id": "485f4d03",
   "metadata": {
    "_cell_guid": "ef9a6327-3d93-4b8d-bbe7-c3e87753ddf1",
    "_uuid": "725dbdab-0b4d-44e4-b8df-6f7c7cb69ab2",
    "collapsed": false,
    "execution": {
     "iopub.execute_input": "2021-11-21T14:35:10.018386Z",
     "iopub.status.busy": "2021-11-21T14:35:10.017582Z",
     "iopub.status.idle": "2021-11-21T14:35:12.349183Z",
     "shell.execute_reply": "2021-11-21T14:35:12.349700Z",
     "shell.execute_reply.started": "2021-11-21T14:03:09.894327Z"
    },
    "jupyter": {
     "outputs_hidden": false
    },
    "papermill": {
     "duration": 2.366791,
     "end_time": "2021-11-21T14:35:12.350330",
     "exception": false,
     "start_time": "2021-11-21T14:35:09.983539",
     "status": "completed"
    },
    "tags": []
   },
   "outputs": [
    {
     "name": "stdout",
     "output_type": "stream",
     "text": [
      "You are using CUDA\n"
     ]
    }
   ],
   "source": [
    "from __future__ import print_function, division\n",
    "\n",
    "import torch\n",
    "import torch.nn as nn\n",
    "import torch.optim as optim\n",
    "import torch.nn.functional as F\n",
    "from torch.autograd import Variable\n",
    "from torch.optim import lr_scheduler\n",
    "from collections import OrderedDict\n",
    "import numpy as np\n",
    "import torchvision\n",
    "from torchvision import datasets, models, transforms\n",
    "import matplotlib.pyplot as plt\n",
    "import time\n",
    "import os\n",
    "import copy\n",
    "import sklearn.svm\n",
    "from sklearn.model_selection import train_test_split, KFold\n",
    "from sklearn.metrics import classification_report, confusion_matrix  \n",
    "from collections import Counter\n",
    "import random\n",
    "\n",
    "\n",
    "plt.ion()  \n",
    "\n",
    "use_gpu = torch.cuda.is_available()\n",
    "if use_gpu:\n",
    "    print(\"You are using CUDA\")"
   ]
  },
  {
   "cell_type": "code",
   "execution_count": 2,
   "id": "bd2afa87",
   "metadata": {
    "_cell_guid": "fff91580-68a8-4340-a6df-cf5eb2f69b4e",
    "_uuid": "c631be41-9512-4071-a841-a35dde5c1c96",
    "collapsed": false,
    "execution": {
     "iopub.execute_input": "2021-11-21T14:35:12.396682Z",
     "iopub.status.busy": "2021-11-21T14:35:12.395036Z",
     "iopub.status.idle": "2021-11-21T14:35:12.399041Z",
     "shell.execute_reply": "2021-11-21T14:35:12.398630Z",
     "shell.execute_reply.started": "2021-11-21T14:03:09.905793Z"
    },
    "jupyter": {
     "outputs_hidden": false
    },
    "papermill": {
     "duration": 0.027188,
     "end_time": "2021-11-21T14:35:12.399147",
     "exception": false,
     "start_time": "2021-11-21T14:35:12.371959",
     "status": "completed"
    },
    "tags": []
   },
   "outputs": [],
   "source": [
    "class ImageFolderWithPaths(datasets.ImageFolder):\n",
    "    \"\"\"Custom dataset that includes image file paths. Extends\n",
    "    torchvision.datasets.ImageFolder\n",
    "    \"\"\"\n",
    "\n",
    "    # override the __getitem__ method. this is the method that dataloader calls\n",
    "    def __getitem__(self, index):\n",
    "        # this is what ImageFolder normally returns \n",
    "        original_tuple = super(ImageFolderWithPaths, self).__getitem__(index)\n",
    "        # the image file path\n",
    "        path = self.imgs[index][0]\n",
    "        # make a new tuple that includes original and the path\n",
    "        tuple_with_path = (original_tuple + (path,))\n",
    "        return tuple_with_path"
   ]
  },
  {
   "cell_type": "code",
   "execution_count": 3,
   "id": "fe11d89a",
   "metadata": {
    "_cell_guid": "1cbdd86c-84df-4ff3-8d92-9118bdf1f9ff",
    "_uuid": "e4dd655f-221a-4f98-8b2e-90f8b89d2679",
    "collapsed": false,
    "execution": {
     "iopub.execute_input": "2021-11-21T14:35:12.440600Z",
     "iopub.status.busy": "2021-11-21T14:35:12.439833Z",
     "iopub.status.idle": "2021-11-21T14:35:12.441856Z",
     "shell.execute_reply": "2021-11-21T14:35:12.442252Z",
     "shell.execute_reply.started": "2021-11-21T14:03:09.918123Z"
    },
    "jupyter": {
     "outputs_hidden": false
    },
    "papermill": {
     "duration": 0.024501,
     "end_time": "2021-11-21T14:35:12.442386",
     "exception": false,
     "start_time": "2021-11-21T14:35:12.417885",
     "status": "completed"
    },
    "tags": []
   },
   "outputs": [],
   "source": [
    "data_dir = '../input/kimoanh29/DATA_CHAMBER_2021'\n",
    "train_dir = data_dir + '/train'\n",
    "test_dir = data_dir + '/test'"
   ]
  },
  {
   "cell_type": "code",
   "execution_count": 4,
   "id": "f017b388",
   "metadata": {
    "_cell_guid": "f8e1342c-e248-444d-b88e-fabe66c29397",
    "_uuid": "4820b273-cefe-44a0-bfc1-65acb1cc5c8e",
    "collapsed": false,
    "execution": {
     "iopub.execute_input": "2021-11-21T14:35:12.482458Z",
     "iopub.status.busy": "2021-11-21T14:35:12.481640Z",
     "iopub.status.idle": "2021-11-21T14:35:15.467766Z",
     "shell.execute_reply": "2021-11-21T14:35:15.467303Z",
     "shell.execute_reply.started": "2021-11-21T14:03:09.925607Z"
    },
    "jupyter": {
     "outputs_hidden": false
    },
    "papermill": {
     "duration": 3.006972,
     "end_time": "2021-11-21T14:35:15.467904",
     "exception": false,
     "start_time": "2021-11-21T14:35:12.460932",
     "status": "completed"
    },
    "tags": []
   },
   "outputs": [
    {
     "name": "stdout",
     "output_type": "stream",
     "text": [
      "cuda\n"
     ]
    }
   ],
   "source": [
    "## Make sure the input data is resized to 224x224 pixels.\n",
    "\n",
    "data_transforms = {\n",
    "    'train': transforms.Compose([\n",
    "        transforms.Resize(256),\n",
    "        transforms.RandomResizedCrop(224),\n",
    "        transforms.Grayscale(3),\n",
    "        transforms.RandomHorizontalFlip(),\n",
    "        transforms.ToTensor()]),\n",
    "    'test': transforms.Compose([\n",
    "        transforms.Resize(224),\n",
    "        transforms.CenterCrop(224),\n",
    "        transforms.ToTensor(),\n",
    "    ])\n",
    "}\n",
    "\n",
    "image_datasets = {\n",
    "    x: ImageFolderWithPaths(\n",
    "        os.path.join(data_dir, x), \n",
    "        transform=data_transforms[x]\n",
    "    )\n",
    "    for x in ['train', 'test']\n",
    "}\n",
    "\n",
    "dataloaders = {\n",
    "    x: torch.utils.data.DataLoader(\n",
    "        image_datasets[x], batch_size=8,\n",
    "        shuffle=True, num_workers=2\n",
    "    )\n",
    "    for x in ['train', 'test']\n",
    "}\n",
    "pathloaders = {\n",
    "    x: torch.utils.data.DataLoader(\n",
    "        image_datasets[x].imgs, batch_size=8,\n",
    "        shuffle=True, num_workers=2\n",
    "    )\n",
    "    for x in ['train', 'test']\n",
    "}\n",
    "dataset_sizes = {x: len(image_datasets[x]) for x in ['train',  'test']}\n",
    "\n",
    "#Check cuda\n",
    "device= torch.device('cuda' if torch.cuda.is_available() else 'cpu')\n",
    "    \n",
    "print(device)"
   ]
  },
  {
   "cell_type": "code",
   "execution_count": 5,
   "id": "5cb44e34",
   "metadata": {
    "_cell_guid": "e51c2910-f722-4a7c-9956-b0dd8e169b25",
    "_uuid": "57b68623-ce0e-42bf-a567-907370b094e6",
    "collapsed": false,
    "execution": {
     "iopub.execute_input": "2021-11-21T14:35:15.511553Z",
     "iopub.status.busy": "2021-11-21T14:35:15.510992Z",
     "iopub.status.idle": "2021-11-21T14:35:15.515725Z",
     "shell.execute_reply": "2021-11-21T14:35:15.516087Z",
     "shell.execute_reply.started": "2021-11-21T14:03:10.840967Z"
    },
    "jupyter": {
     "outputs_hidden": false
    },
    "papermill": {
     "duration": 0.029013,
     "end_time": "2021-11-21T14:35:15.516208",
     "exception": false,
     "start_time": "2021-11-21T14:35:15.487195",
     "status": "completed"
    },
    "tags": []
   },
   "outputs": [
    {
     "name": "stdout",
     "output_type": "stream",
     "text": [
      "Loaded 6717 images in train\n",
      "Loaded 1607 images in test\n",
      "Classes: \n",
      "['2C', '3C', '4C']\n"
     ]
    }
   ],
   "source": [
    "for x in ['train', 'test']:\n",
    "    print(\"Loaded {} images in {}\".format(dataset_sizes[x], x))\n",
    "    \n",
    "print(\"Classes: \")\n",
    "\n",
    "label = image_datasets['train'].classes\n",
    "print(image_datasets['train'].classes)"
   ]
  },
  {
   "cell_type": "code",
   "execution_count": 6,
   "id": "b0da595e",
   "metadata": {
    "_cell_guid": "5d30823b-60e1-4c24-911a-d646c8ee656f",
    "_uuid": "66e63533-147e-4b8b-9ef3-e17afda10bbf",
    "collapsed": false,
    "execution": {
     "iopub.execute_input": "2021-11-21T14:35:15.562123Z",
     "iopub.status.busy": "2021-11-21T14:35:15.561511Z",
     "iopub.status.idle": "2021-11-21T14:35:16.310036Z",
     "shell.execute_reply": "2021-11-21T14:35:16.310484Z",
     "shell.execute_reply.started": "2021-11-21T14:03:10.848801Z"
    },
    "jupyter": {
     "outputs_hidden": false
    },
    "papermill": {
     "duration": 0.775144,
     "end_time": "2021-11-21T14:35:16.310637",
     "exception": false,
     "start_time": "2021-11-21T14:35:15.535493",
     "status": "completed"
    },
    "tags": []
   },
   "outputs": [
    {
     "data": {
      "image/png": "[encoded data removed]",
      "text/plain": [
       "<Figure size 432x288 with 1 Axes>"
      ]
     },
     "metadata": {
      "needs_background": "light"
     },
     "output_type": "display_data"
    }
   ],
   "source": [
    "def imshow(inp, title=None):\n",
    "    \"\"\"Imshow for Tensor.\"\"\"\n",
    "    inp = inp.numpy().transpose((1, 2, 0))\n",
    "    plt.imshow(inp)\n",
    "    if title is not None:\n",
    "        plt.title(title)\n",
    "    plt.pause(0.001)  # pause a bit so that plots are updated\n",
    "    \n",
    "def show_databatch(inputs, classes):\n",
    "    out = torchvision.utils.make_grid(inputs)\n",
    "    imshow(out, title=[label[x] for x in classes])\n",
    "\n",
    "\n",
    "# Get a batch of training data\n",
    "inputs, classes,_ = next(iter(dataloaders['train']))\n",
    "\n",
    "# Make a grid from batch\n",
    "out = torchvision.utils.make_grid(inputs)\n",
    "\n",
    "imshow(out, title=[label[x] for x in classes])"
   ]
  },
  {
   "cell_type": "code",
   "execution_count": 7,
   "id": "9633a78b",
   "metadata": {
    "_cell_guid": "2377ac7f-bcad-44b3-9c2c-39be5793c2ea",
    "_uuid": "2bd1f2d4-f765-4056-a1bc-922e9eafcfa9",
    "collapsed": false,
    "execution": {
     "iopub.execute_input": "2021-11-21T14:35:16.355311Z",
     "iopub.status.busy": "2021-11-21T14:35:16.354509Z",
     "iopub.status.idle": "2021-11-21T14:35:16.360535Z",
     "shell.execute_reply": "2021-11-21T14:35:16.360075Z",
     "shell.execute_reply.started": "2021-11-21T14:03:11.520112Z"
    },
    "jupyter": {
     "outputs_hidden": false
    },
    "papermill": {
     "duration": 0.029248,
     "end_time": "2021-11-21T14:35:16.360641",
     "exception": false,
     "start_time": "2021-11-21T14:35:16.331393",
     "status": "completed"
    },
    "tags": []
   },
   "outputs": [
    {
     "data": {
      "text/plain": [
       "'1.9.1'"
      ]
     },
     "execution_count": 7,
     "metadata": {},
     "output_type": "execute_result"
    }
   ],
   "source": [
    "torch.__version__"
   ]
  },
  {
   "cell_type": "code",
   "execution_count": 8,
   "id": "19e8bfa8",
   "metadata": {
    "_cell_guid": "c11f1bd4-a0e9-4c35-ab65-790acfc3dc1a",
    "_uuid": "2f3de6e6-d194-4632-af8f-93a626ba6753",
    "collapsed": false,
    "execution": {
     "iopub.execute_input": "2021-11-21T14:35:16.411202Z",
     "iopub.status.busy": "2021-11-21T14:35:16.410464Z",
     "iopub.status.idle": "2021-11-21T14:35:16.412467Z",
     "shell.execute_reply": "2021-11-21T14:35:16.412914Z",
     "shell.execute_reply.started": "2021-11-21T14:03:11.533381Z"
    },
    "jupyter": {
     "outputs_hidden": false
    },
    "papermill": {
     "duration": 0.031622,
     "end_time": "2021-11-21T14:35:16.413028",
     "exception": false,
     "start_time": "2021-11-21T14:35:16.381406",
     "status": "completed"
    },
    "tags": []
   },
   "outputs": [],
   "source": [
    "def visualize_model(model, num_images=6):\n",
    "    was_training = model.training\n",
    "    \n",
    "    # Set model for evaluation\n",
    "    model.train(False)\n",
    "    model.eval() \n",
    "    \n",
    "    images_so_far = 0\n",
    "\n",
    "    for i, data in enumerate(dataloaders['test']):\n",
    "        inputs, labels,_ = data\n",
    "        size = inputs.size()[0]\n",
    "        \n",
    "        if use_gpu:\n",
    "            with torch.no_grad():\n",
    "                inputs, labels = inputs.cuda(), labels.cuda()\n",
    "        else:\n",
    "            with torch.no_grad():\n",
    "                inputs, labels = inputs, labels\n",
    "        \n",
    "        outputs = model(inputs)\n",
    "        \n",
    "        _, preds = torch.max(outputs.data, 1)\n",
    "        predicted_labels = [preds[j] for j in range(inputs.size()[0])]\n",
    "        \n",
    "        print(\"Ground truth:\")\n",
    "        show_databatch(inputs.data.cpu(), labels.data.cpu())\n",
    "        print(\"Prediction:\")\n",
    "        show_databatch(inputs.data.cpu(), predicted_labels)\n",
    "        \n",
    "        del inputs, labels, outputs, preds, predicted_labels\n",
    "        torch.cuda.empty_cache()\n",
    "        \n",
    "        images_so_far += size\n",
    "        if images_so_far >= num_images:\n",
    "            break\n",
    "        \n",
    "    model.train(mode=was_training)"
   ]
  },
  {
   "cell_type": "code",
   "execution_count": 9,
   "id": "cc424f02",
   "metadata": {
    "_cell_guid": "f1a7482f-9bd4-431e-a582-67e16618c4c8",
    "_uuid": "fe66aa6e-9bb8-4328-9e25-114b4e9277ef",
    "collapsed": false,
    "execution": {
     "iopub.execute_input": "2021-11-21T14:35:16.466396Z",
     "iopub.status.busy": "2021-11-21T14:35:16.465612Z",
     "iopub.status.idle": "2021-11-21T14:35:16.468037Z",
     "shell.execute_reply": "2021-11-21T14:35:16.467611Z",
     "shell.execute_reply.started": "2021-11-21T14:03:11.544316Z"
    },
    "jupyter": {
     "outputs_hidden": false
    },
    "papermill": {
     "duration": 0.034123,
     "end_time": "2021-11-21T14:35:16.468135",
     "exception": false,
     "start_time": "2021-11-21T14:35:16.434012",
     "status": "completed"
    },
    "tags": []
   },
   "outputs": [],
   "source": [
    "def eval_model(model, criterion):\n",
    "    y_true = []\n",
    "    y_pred = []\n",
    "    vid_id = []\n",
    "    since = time.time()\n",
    "    avg_loss = 0\n",
    "    avg_acc = 0\n",
    "    loss_test = 0\n",
    "    acc_test = 0\n",
    "    \n",
    "    test_batches = len(dataloaders['test'])\n",
    "    print(\"Evaluating model\")\n",
    "    print('-' * 10)\n",
    "    \n",
    "    for i, data in enumerate(dataloaders['test']):\n",
    "        if i % 100 == 0:\n",
    "            print(\"\\rTest batch {}/{}\".format(i, test_batches), end='', flush=True)\n",
    "\n",
    "        model.train(False)\n",
    "        model.eval()\n",
    "        \n",
    "        inputs, labels, fname = data\n",
    "        \n",
    "        for f in fname:\n",
    "            vid_id.append(f.split('/')[-1].split('.')[0].split('_')[0])\n",
    "        y_true = y_true + labels.tolist()\n",
    "        \n",
    "        if use_gpu:\n",
    "            with torch.no_grad():\n",
    "                inputs, labels = inputs.cuda(), labels.cuda()\n",
    "        else:\n",
    "            with torch.no_grad():\n",
    "                inputs, labels = inputs, labels\n",
    "\n",
    "        outputs = model(inputs)\n",
    "\n",
    "        _, preds = torch.max(outputs.data, 1)\n",
    "        loss = criterion(outputs, labels)\n",
    "        #print(preds)\n",
    "        y_pred = y_pred + preds.tolist()\n",
    "        \n",
    "        loss_test += loss.item()\n",
    "        acc_test += torch.sum(preds == labels.data)\n",
    "\n",
    "        del inputs, labels, outputs, preds\n",
    "        torch.cuda.empty_cache()\n",
    "        \n",
    "    avg_loss = loss_test / dataset_sizes['test']\n",
    "    avg_acc = acc_test / dataset_sizes['test']\n",
    "    \n",
    "    elapsed_time = time.time() - since\n",
    "    print()\n",
    "    print(\"Evaluation completed in {:.0f}m {:.0f}s\".format(elapsed_time // 60, elapsed_time % 60))\n",
    "    print(\"Avg loss (test): {:.4f}\".format(avg_loss))\n",
    "    print(\"Avg acc (test): {:.4f}\".format(avg_acc))\n",
    "    print('-' * 10)\n",
    "    return y_true,y_pred,vid_id"
   ]
  },
  {
   "cell_type": "code",
   "execution_count": 10,
   "id": "8385c8f1",
   "metadata": {
    "_cell_guid": "b196ae9e-2434-4cf6-8c83-d492ef0409e7",
    "_uuid": "57c32d34-ae08-4363-88f0-fdec25cd7cf8",
    "collapsed": false,
    "execution": {
     "iopub.execute_input": "2021-11-21T14:35:16.514849Z",
     "iopub.status.busy": "2021-11-21T14:35:16.514284Z",
     "iopub.status.idle": "2021-11-21T14:35:23.945740Z",
     "shell.execute_reply": "2021-11-21T14:35:23.946470Z",
     "shell.execute_reply.started": "2021-11-21T14:03:11.560986Z"
    },
    "jupyter": {
     "outputs_hidden": false
    },
    "papermill": {
     "duration": 7.45831,
     "end_time": "2021-11-21T14:35:23.946664",
     "exception": false,
     "start_time": "2021-11-21T14:35:16.488354",
     "status": "completed"
    },
    "tags": []
   },
   "outputs": [
    {
     "name": "stdout",
     "output_type": "stream",
     "text": [
      "1000\n"
     ]
    }
   ],
   "source": [
    "model = models.vgg19_bn()\n",
    "model.load_state_dict(torch.load(\"../input/vgg19bn/vgg19_bn.pth\"))\n",
    "print(model.classifier[6].out_features) # 1000 \n",
    "\n",
    "\n",
    "# Freeze training for all layers\n",
    "for param in model.features.parameters():\n",
    "    param.require_grad = False\n",
    "\n",
    "# Newly created modules have require_grad=True by default\n",
    "num_features = model.classifier[6].in_features\n",
    "features = list(model.classifier.children())[:-1] # Remove last layer\n",
    "features.extend([nn.Linear(num_features, len(label))]) # Add our layer with 4 outputs\n",
    "model.classifier = nn.Sequential(*features) # Replace the model classifier"
   ]
  },
  {
   "cell_type": "code",
   "execution_count": 11,
   "id": "e446df83",
   "metadata": {
    "_cell_guid": "4eda27fa-1c23-45ac-b29d-688e3c7ddc84",
    "_uuid": "98a8a225-4666-4c03-8713-e6276ad549e9",
    "collapsed": false,
    "execution": {
     "iopub.execute_input": "2021-11-21T14:35:23.997859Z",
     "iopub.status.busy": "2021-11-21T14:35:23.997102Z",
     "iopub.status.idle": "2021-11-21T14:35:27.007132Z",
     "shell.execute_reply": "2021-11-21T14:35:27.006546Z",
     "shell.execute_reply.started": "2021-11-21T14:03:13.983065Z"
    },
    "jupyter": {
     "outputs_hidden": false
    },
    "papermill": {
     "duration": 3.038924,
     "end_time": "2021-11-21T14:35:27.007373",
     "exception": false,
     "start_time": "2021-11-21T14:35:23.968449",
     "status": "completed"
    },
    "tags": []
   },
   "outputs": [],
   "source": [
    "# If you want to train the model for more than 2 epochs, set this to True after the first run\n",
    "resume_training = False\n",
    "\n",
    "if resume_training:\n",
    "    print(\"Loading pretrained model..\")\n",
    "    model.load_state_dict(torch.load('../input/vgg16-transfer-learning-pytorch/VGG16_v2-OCT_Retina.pt'))\n",
    "    print(\"Loaded!\")\n",
    "    \n",
    "if use_gpu:\n",
    "    model.cuda() #.cuda() will move everything to the GPU side\n",
    "    \n",
    "criterion = nn.CrossEntropyLoss()\n",
    "\n",
    "optimizer_ft = optim.SGD(model.parameters(), lr=0.001, momentum=0.9)\n",
    "exp_lr_scheduler = lr_scheduler.StepLR(optimizer_ft, step_size=7, gamma=0.1)"
   ]
  },
  {
   "cell_type": "code",
   "execution_count": 12,
   "id": "f2f13b8c",
   "metadata": {
    "_cell_guid": "6e991c74-5bd2-4ccf-aa5b-0788945718f1",
    "_uuid": "c37a4cb2-0b45-4b58-9a0c-4869ea5ce3dd",
    "collapsed": false,
    "execution": {
     "iopub.execute_input": "2021-11-21T14:35:27.057445Z",
     "iopub.status.busy": "2021-11-21T14:35:27.055651Z",
     "iopub.status.idle": "2021-11-21T14:35:50.650619Z",
     "shell.execute_reply": "2021-11-21T14:35:50.651044Z",
     "shell.execute_reply.started": "2021-11-21T14:03:14.137363Z"
    },
    "jupyter": {
     "outputs_hidden": false
    },
    "papermill": {
     "duration": 23.621507,
     "end_time": "2021-11-21T14:35:50.651231",
     "exception": false,
     "start_time": "2021-11-21T14:35:27.029724",
     "status": "completed"
    },
    "tags": []
   },
   "outputs": [
    {
     "name": "stdout",
     "output_type": "stream",
     "text": [
      "Test before training\n",
      "Evaluating model\n",
      "----------\n",
      "Test batch 200/201\n",
      "Evaluation completed in 0m 24s\n",
      "Avg loss (test): 0.1373\n",
      "Avg acc (test): 0.3815\n",
      "----------\n",
      "\n"
     ]
    }
   ],
   "source": [
    "print(\"Test before training\")\n",
    "eval_model(model, criterion)\n",
    "print('')"
   ]
  },
  {
   "cell_type": "code",
   "execution_count": 13,
   "id": "0411650a",
   "metadata": {
    "_cell_guid": "a1ff7e58-5aae-48a4-aac3-50a6579ce8e4",
    "_uuid": "aeb5e293-e826-4bff-8789-be4267030932",
    "collapsed": false,
    "execution": {
     "iopub.execute_input": "2021-11-21T14:35:50.708069Z",
     "iopub.status.busy": "2021-11-21T14:35:50.706008Z",
     "iopub.status.idle": "2021-11-21T14:35:51.716484Z",
     "shell.execute_reply": "2021-11-21T14:35:51.716908Z",
     "shell.execute_reply.started": "2021-11-21T14:03:30.694213Z"
    },
    "jupyter": {
     "outputs_hidden": false
    },
    "papermill": {
     "duration": 1.040389,
     "end_time": "2021-11-21T14:35:51.717064",
     "exception": false,
     "start_time": "2021-11-21T14:35:50.676675",
     "status": "completed"
    },
    "tags": []
   },
   "outputs": [
    {
     "name": "stdout",
     "output_type": "stream",
     "text": [
      "Ground truth:\n"
     ]
    },
    {
     "data": {
      "image/png": "[encoded data removed]",
      "text/plain": [
       "<Figure size 432x288 with 1 Axes>"
      ]
     },
     "metadata": {
      "needs_background": "light"
     },
     "output_type": "display_data"
    },
    {
     "name": "stdout",
     "output_type": "stream",
     "text": [
      "Prediction:\n"
     ]
    },
    {
     "data": {
      "image/png": "[encoded data removed]",
      "text/plain": [
       "<Figure size 432x288 with 1 Axes>"
      ]
     },
     "metadata": {
      "needs_background": "light"
     },
     "output_type": "display_data"
    }
   ],
   "source": [
    "visualize_model(model) #test before training"
   ]
  },
  {
   "cell_type": "markdown",
   "id": "492de83f",
   "metadata": {
    "_cell_guid": "dc909496-5a16-46e6-86ef-48d952f1521e",
    "_uuid": "0e093dcb-0d21-4d92-97e4-d9f29b634bd0",
    "papermill": {
     "duration": 0.024431,
     "end_time": "2021-11-21T14:35:51.766815",
     "exception": false,
     "start_time": "2021-11-21T14:35:51.742384",
     "status": "completed"
    },
    "tags": []
   },
   "source": [
    "**Training model**"
   ]
  },
  {
   "cell_type": "code",
   "execution_count": 14,
   "id": "855ff2ad",
   "metadata": {
    "_cell_guid": "9bc636cc-2f94-4722-b80b-84366fb30112",
    "_uuid": "151b22c1-3f3c-4811-8516-43067f8d0644",
    "collapsed": false,
    "execution": {
     "iopub.execute_input": "2021-11-21T14:35:51.831611Z",
     "iopub.status.busy": "2021-11-21T14:35:51.830848Z",
     "iopub.status.idle": "2021-11-21T14:35:51.833254Z",
     "shell.execute_reply": "2021-11-21T14:35:51.833723Z",
     "shell.execute_reply.started": "2021-11-21T14:03:31.661147Z"
    },
    "jupyter": {
     "outputs_hidden": false
    },
    "papermill": {
     "duration": 0.042396,
     "end_time": "2021-11-21T14:35:51.833862",
     "exception": false,
     "start_time": "2021-11-21T14:35:51.791466",
     "status": "completed"
    },
    "tags": []
   },
   "outputs": [],
   "source": [
    "def train_model(vgg, criterion, optimizer, scheduler, num_epochs=5):\n",
    "    since = time.time()\n",
    "    best_model_wts = copy.deepcopy(vgg.state_dict())\n",
    "    best_acc = 0.0\n",
    "    \n",
    "    avg_loss = 0\n",
    "    avg_acc = 0\n",
    "    avg_loss_val = 0\n",
    "    avg_acc_val = 0\n",
    "    \n",
    "    train_batches = len(dataloaders['train'])\n",
    "    \n",
    "    loss_values = []\n",
    "    acc_values = []\n",
    "    for epoch in range(num_epochs):\n",
    "        print(\"Epoch {}/{}\".format(epoch, num_epochs))\n",
    "        print('-' * 10)\n",
    "        \n",
    "        loss_train = 0\n",
    "        loss_val = 0\n",
    "        acc_train = 0\n",
    "        \n",
    "        vgg.train(True)\n",
    "        \n",
    "        for i, data in enumerate(dataloaders['train']):\n",
    "            \n",
    "            print(\"\\rTraining batch {}/{}\".format(i+1, train_batches), end='', flush=True)\n",
    "                \n",
    "            \n",
    "                \n",
    "            inputs, labels,_= data\n",
    "            \n",
    "            if use_gpu:\n",
    "                with torch.no_grad():\n",
    "                    inputs, labels = inputs.cuda(), labels.cuda()\n",
    "            else:\n",
    "                with torch.no_grad():\n",
    "                    inputs, labels = inputs, labels\n",
    "            \n",
    "            optimizer.zero_grad()\n",
    "            \n",
    "            outputs = vgg(inputs)\n",
    "            \n",
    "            _, preds = torch.max(outputs.data, 1)\n",
    "            loss = criterion(outputs, labels)\n",
    "            \n",
    "            loss.backward()\n",
    "            optimizer.step()\n",
    "            \n",
    "            loss_train += loss.item()\n",
    "            acc_train += torch.sum(preds == labels.data)\n",
    "            \n",
    "            del inputs, labels, outputs, preds\n",
    "            torch.cuda.empty_cache()\n",
    "        \n",
    "        print()\n",
    "        # * 2 as we only used half of the dataset\n",
    "        avg_loss = loss_train  / dataset_sizes['train']\n",
    "        avg_acc = acc_train  / dataset_sizes['train']\n",
    "        loss_values.append(avg_loss)\n",
    "        acc_values.append(avg_acc)\n",
    "        vgg.train(False)\n",
    "        vgg.eval()\n",
    "            \n",
    "\n",
    "        \n",
    "        print()\n",
    "        print(\"Epoch {} result: \".format(epoch))\n",
    "        print(\"Avg loss (train): {:.4f}\".format(avg_loss))\n",
    "        print(\"Avg acc (train): {:.4f}\".format(avg_acc))\n",
    "\n",
    "        print('-' * 10)\n",
    "        print()\n",
    "        \n",
    "        if avg_acc > best_acc:\n",
    "            best_acc = avg_acc\n",
    "            best_model_wts = copy.deepcopy(vgg.state_dict())\n",
    "        \n",
    "    elapsed_time = time.time() - since\n",
    "    print()\n",
    "    print(\"Training completed in {:.0f}m {:.0f}s\".format(elapsed_time // 60, elapsed_time % 60))\n",
    "    print(\"Best acc: {:.4f}\".format(best_acc))\n",
    "    \n",
    "    vgg.load_state_dict(best_model_wts)\n",
    "    return vgg,acc_values,loss_values"
   ]
  },
  {
   "cell_type": "code",
   "execution_count": 15,
   "id": "56cd0e7d",
   "metadata": {
    "_cell_guid": "fb601c09-a30b-4427-86da-5204a35e3886",
    "_uuid": "5f62fe99-3dc1-434d-badd-c05fb1fc8cd2",
    "collapsed": false,
    "execution": {
     "iopub.execute_input": "2021-11-21T14:35:51.888946Z",
     "iopub.status.busy": "2021-11-21T14:35:51.888185Z",
     "iopub.status.idle": "2021-11-21T14:59:22.307196Z",
     "shell.execute_reply": "2021-11-21T14:59:22.307855Z",
     "shell.execute_reply.started": "2021-11-21T14:03:31.679438Z"
    },
    "jupyter": {
     "outputs_hidden": false
    },
    "papermill": {
     "duration": 1410.448356,
     "end_time": "2021-11-21T14:59:22.308025",
     "exception": false,
     "start_time": "2021-11-21T14:35:51.859669",
     "status": "completed"
    },
    "tags": []
   },
   "outputs": [
    {
     "name": "stdout",
     "output_type": "stream",
     "text": [
      "Epoch 0/10\n",
      "----------\n",
      "Training batch 840/840\n",
      "\n",
      "Epoch 0 result: \n",
      "Avg loss (train): 0.0759\n",
      "Avg acc (train): 0.7279\n",
      "----------\n",
      "\n",
      "Epoch 1/10\n",
      "----------\n",
      "Training batch 840/840\n",
      "\n",
      "Epoch 1 result: \n",
      "Avg loss (train): 0.0416\n",
      "Avg acc (train): 0.8626\n",
      "----------\n",
      "\n",
      "Epoch 2/10\n",
      "----------\n",
      "Training batch 840/840\n",
      "\n",
      "Epoch 2 result: \n",
      "Avg loss (train): 0.0315\n",
      "Avg acc (train): 0.8959\n",
      "----------\n",
      "\n",
      "Epoch 3/10\n",
      "----------\n",
      "Training batch 840/840\n",
      "\n",
      "Epoch 3 result: \n",
      "Avg loss (train): 0.0259\n",
      "Avg acc (train): 0.9153\n",
      "----------\n",
      "\n",
      "Epoch 4/10\n",
      "----------\n",
      "Training batch 840/840\n",
      "\n",
      "Epoch 4 result: \n",
      "Avg loss (train): 0.0241\n",
      "Avg acc (train): 0.9235\n",
      "----------\n",
      "\n",
      "Epoch 5/10\n",
      "----------\n",
      "Training batch 840/840\n",
      "\n",
      "Epoch 5 result: \n",
      "Avg loss (train): 0.0215\n",
      "Avg acc (train): 0.9293\n",
      "----------\n",
      "\n",
      "Epoch 6/10\n",
      "----------\n",
      "Training batch 840/840\n",
      "\n",
      "Epoch 6 result: \n",
      "Avg loss (train): 0.0182\n",
      "Avg acc (train): 0.9418\n",
      "----------\n",
      "\n",
      "Epoch 7/10\n",
      "----------\n",
      "Training batch 840/840\n",
      "\n",
      "Epoch 7 result: \n",
      "Avg loss (train): 0.0203\n",
      "Avg acc (train): 0.9378\n",
      "----------\n",
      "\n",
      "Epoch 8/10\n",
      "----------\n",
      "Training batch 840/840\n",
      "\n",
      "Epoch 8 result: \n",
      "Avg loss (train): 0.0163\n",
      "Avg acc (train): 0.9471\n",
      "----------\n",
      "\n",
      "Epoch 9/10\n",
      "----------\n",
      "Training batch 840/840\n",
      "\n",
      "Epoch 9 result: \n",
      "Avg loss (train): 0.0171\n",
      "Avg acc (train): 0.9454\n",
      "----------\n",
      "\n",
      "\n",
      "Training completed in 23m 29s\n",
      "Best acc: 0.9471\n"
     ]
    }
   ],
   "source": [
    "model,acc,loss = train_model(model, criterion, optimizer_ft, exp_lr_scheduler, num_epochs=10)\n",
    "torch.save(model.state_dict(),'VGG19_echocardiogram.pt')"
   ]
  },
  {
   "cell_type": "code",
   "execution_count": 16,
   "id": "21ee8c50",
   "metadata": {
    "_cell_guid": "47a218ac-4177-4277-956b-b54d1eacae9e",
    "_uuid": "a1688607-d7c6-4e87-bc52-6e22da7d6a24",
    "collapsed": false,
    "execution": {
     "iopub.execute_input": "2021-11-21T14:59:27.275767Z",
     "iopub.status.busy": "2021-11-21T14:59:27.274121Z",
     "iopub.status.idle": "2021-11-21T14:59:44.081398Z",
     "shell.execute_reply": "2021-11-21T14:59:44.081807Z",
     "shell.execute_reply.started": "2021-11-21T14:26:49.540864Z"
    },
    "jupyter": {
     "outputs_hidden": false
    },
    "papermill": {
     "duration": 19.658519,
     "end_time": "2021-11-21T14:59:44.081965",
     "exception": false,
     "start_time": "2021-11-21T14:59:24.423446",
     "status": "completed"
    },
    "tags": []
   },
   "outputs": [
    {
     "name": "stdout",
     "output_type": "stream",
     "text": [
      "Evaluating model\n",
      "----------\n",
      "Test batch 200/201\n",
      "Evaluation completed in 0m 17s\n",
      "Avg loss (test): 0.1172\n",
      "Avg acc (test): 0.8475\n",
      "----------\n"
     ]
    }
   ],
   "source": [
    "y_true,y_pred,vid_code = eval_model(model, criterion)"
   ]
  },
  {
   "cell_type": "code",
   "execution_count": 17,
   "id": "9c993944",
   "metadata": {
    "_cell_guid": "a1d236fd-2823-41f6-9a73-f6407a39a002",
    "_uuid": "fe565932-6214-45bc-8090-b25122796b1e",
    "collapsed": false,
    "execution": {
     "iopub.execute_input": "2021-11-21T14:59:48.739857Z",
     "iopub.status.busy": "2021-11-21T14:59:48.738868Z",
     "iopub.status.idle": "2021-11-21T14:59:51.209769Z",
     "shell.execute_reply": "2021-11-21T14:59:51.209265Z",
     "shell.execute_reply.started": "2021-11-21T14:27:06.793394Z"
    },
    "jupyter": {
     "outputs_hidden": false
    },
    "papermill": {
     "duration": 4.896534,
     "end_time": "2021-11-21T14:59:51.209897",
     "exception": false,
     "start_time": "2021-11-21T14:59:46.313363",
     "status": "completed"
    },
    "tags": []
   },
   "outputs": [
    {
     "name": "stdout",
     "output_type": "stream",
     "text": [
      "Ground truth:\n"
     ]
    },
    {
     "data": {
      "image/png": "[encoded data removed]",
      "text/plain": [
       "<Figure size 432x288 with 1 Axes>"
      ]
     },
     "metadata": {
      "needs_background": "light"
     },
     "output_type": "display_data"
    },
    {
     "name": "stdout",
     "output_type": "stream",
     "text": [
      "Prediction:\n"
     ]
    },
    {
     "data": {
      "image/png": "[encoded data removed]",
      "text/plain": [
       "<Figure size 432x288 with 1 Axes>"
      ]
     },
     "metadata": {
      "needs_background": "light"
     },
     "output_type": "display_data"
    },
    {
     "name": "stdout",
     "output_type": "stream",
     "text": [
      "Ground truth:\n"
     ]
    },
    {
     "data": {
      "image/png": "[encoded data removed]",
      "text/plain": [
       "<Figure size 432x288 with 1 Axes>"
      ]
     },
     "metadata": {
      "needs_background": "light"
     },
     "output_type": "display_data"
    },
    {
     "name": "stdout",
     "output_type": "stream",
     "text": [
      "Prediction:\n"
     ]
    },
    {
     "data": {
      "image/png": "[encoded data removed]",
      "text/plain": [
       "<Figure size 432x288 with 1 Axes>"
      ]
     },
     "metadata": {
      "needs_background": "light"
     },
     "output_type": "display_data"
    },
    {
     "name": "stdout",
     "output_type": "stream",
     "text": [
      "Ground truth:\n"
     ]
    },
    {
     "data": {
      "image/png": "[encoded data removed]",
      "text/plain": [
       "<Figure size 432x288 with 1 Axes>"
      ]
     },
     "metadata": {
      "needs_background": "light"
     },
     "output_type": "display_data"
    },
    {
     "name": "stdout",
     "output_type": "stream",
     "text": [
      "Prediction:\n"
     ]
    },
    {
     "data": {
      "image/png": "[encoded data removed]",
      "text/plain": [
       "<Figure size 432x288 with 1 Axes>"
      ]
     },
     "metadata": {
      "needs_background": "light"
     },
     "output_type": "display_data"
    }
   ],
   "source": [
    "visualize_model(model, num_images = 24)\n",
    "\n",
    "plt.ioff()\n",
    "plt.show()"
   ]
  },
  {
   "cell_type": "code",
   "execution_count": 18,
   "id": "f900637b",
   "metadata": {
    "_cell_guid": "9b0e490f-ef75-4f33-8a5b-15b658c93df3",
    "_uuid": "9dc1734e-e855-4175-a21b-dbe197e11ec8",
    "collapsed": false,
    "execution": {
     "iopub.execute_input": "2021-11-21T14:59:55.595558Z",
     "iopub.status.busy": "2021-11-21T14:59:55.594645Z",
     "iopub.status.idle": "2021-11-21T14:59:55.613745Z",
     "shell.execute_reply": "2021-11-21T14:59:55.614145Z",
     "shell.execute_reply.started": "2021-11-21T14:27:09.595880Z"
    },
    "jupyter": {
     "outputs_hidden": false
    },
    "papermill": {
     "duration": 2.235834,
     "end_time": "2021-11-21T14:59:55.614319",
     "exception": false,
     "start_time": "2021-11-21T14:59:53.378485",
     "status": "completed"
    },
    "tags": []
   },
   "outputs": [
    {
     "data": {
      "text/html": [
       "<div>\n",
       "<style scoped>\n",
       "    .dataframe tbody tr th:only-of-type {\n",
       "        vertical-align: middle;\n",
       "    }\n",
       "\n",
       "    .dataframe tbody tr th {\n",
       "        vertical-align: top;\n",
       "    }\n",
       "\n",
       "    .dataframe thead th {\n",
       "        text-align: right;\n",
       "    }\n",
       "</style>\n",
       "<table border=\"1\" class=\"dataframe\">\n",
       "  <thead>\n",
       "    <tr style=\"text-align: right;\">\n",
       "      <th></th>\n",
       "      <th>y_true</th>\n",
       "      <th>y_pred</th>\n",
       "      <th>video_id</th>\n",
       "    </tr>\n",
       "  </thead>\n",
       "  <tbody>\n",
       "    <tr>\n",
       "      <th>0</th>\n",
       "      <td>0</td>\n",
       "      <td>0</td>\n",
       "      <td>192</td>\n",
       "    </tr>\n",
       "    <tr>\n",
       "      <th>1</th>\n",
       "      <td>2</td>\n",
       "      <td>2</td>\n",
       "      <td>170</td>\n",
       "    </tr>\n",
       "    <tr>\n",
       "      <th>2</th>\n",
       "      <td>1</td>\n",
       "      <td>1</td>\n",
       "      <td>161</td>\n",
       "    </tr>\n",
       "    <tr>\n",
       "      <th>3</th>\n",
       "      <td>2</td>\n",
       "      <td>2</td>\n",
       "      <td>160</td>\n",
       "    </tr>\n",
       "    <tr>\n",
       "      <th>4</th>\n",
       "      <td>2</td>\n",
       "      <td>2</td>\n",
       "      <td>193</td>\n",
       "    </tr>\n",
       "    <tr>\n",
       "      <th>5</th>\n",
       "      <td>0</td>\n",
       "      <td>0</td>\n",
       "      <td>176</td>\n",
       "    </tr>\n",
       "    <tr>\n",
       "      <th>6</th>\n",
       "      <td>1</td>\n",
       "      <td>1</td>\n",
       "      <td>186</td>\n",
       "    </tr>\n",
       "    <tr>\n",
       "      <th>7</th>\n",
       "      <td>2</td>\n",
       "      <td>2</td>\n",
       "      <td>163</td>\n",
       "    </tr>\n",
       "    <tr>\n",
       "      <th>8</th>\n",
       "      <td>2</td>\n",
       "      <td>1</td>\n",
       "      <td>167</td>\n",
       "    </tr>\n",
       "    <tr>\n",
       "      <th>9</th>\n",
       "      <td>0</td>\n",
       "      <td>0</td>\n",
       "      <td>171</td>\n",
       "    </tr>\n",
       "    <tr>\n",
       "      <th>10</th>\n",
       "      <td>2</td>\n",
       "      <td>2</td>\n",
       "      <td>160</td>\n",
       "    </tr>\n",
       "    <tr>\n",
       "      <th>11</th>\n",
       "      <td>2</td>\n",
       "      <td>2</td>\n",
       "      <td>188</td>\n",
       "    </tr>\n",
       "    <tr>\n",
       "      <th>12</th>\n",
       "      <td>1</td>\n",
       "      <td>1</td>\n",
       "      <td>159</td>\n",
       "    </tr>\n",
       "    <tr>\n",
       "      <th>13</th>\n",
       "      <td>0</td>\n",
       "      <td>0</td>\n",
       "      <td>169</td>\n",
       "    </tr>\n",
       "    <tr>\n",
       "      <th>14</th>\n",
       "      <td>2</td>\n",
       "      <td>2</td>\n",
       "      <td>193</td>\n",
       "    </tr>\n",
       "    <tr>\n",
       "      <th>15</th>\n",
       "      <td>2</td>\n",
       "      <td>2</td>\n",
       "      <td>173</td>\n",
       "    </tr>\n",
       "    <tr>\n",
       "      <th>16</th>\n",
       "      <td>2</td>\n",
       "      <td>1</td>\n",
       "      <td>167</td>\n",
       "    </tr>\n",
       "    <tr>\n",
       "      <th>17</th>\n",
       "      <td>2</td>\n",
       "      <td>0</td>\n",
       "      <td>184</td>\n",
       "    </tr>\n",
       "    <tr>\n",
       "      <th>18</th>\n",
       "      <td>1</td>\n",
       "      <td>1</td>\n",
       "      <td>157</td>\n",
       "    </tr>\n",
       "    <tr>\n",
       "      <th>19</th>\n",
       "      <td>2</td>\n",
       "      <td>2</td>\n",
       "      <td>182</td>\n",
       "    </tr>\n",
       "    <tr>\n",
       "      <th>20</th>\n",
       "      <td>2</td>\n",
       "      <td>2</td>\n",
       "      <td>160</td>\n",
       "    </tr>\n",
       "    <tr>\n",
       "      <th>21</th>\n",
       "      <td>2</td>\n",
       "      <td>1</td>\n",
       "      <td>187</td>\n",
       "    </tr>\n",
       "    <tr>\n",
       "      <th>22</th>\n",
       "      <td>2</td>\n",
       "      <td>2</td>\n",
       "      <td>184</td>\n",
       "    </tr>\n",
       "    <tr>\n",
       "      <th>23</th>\n",
       "      <td>1</td>\n",
       "      <td>1</td>\n",
       "      <td>166</td>\n",
       "    </tr>\n",
       "    <tr>\n",
       "      <th>24</th>\n",
       "      <td>0</td>\n",
       "      <td>0</td>\n",
       "      <td>158</td>\n",
       "    </tr>\n",
       "    <tr>\n",
       "      <th>25</th>\n",
       "      <td>2</td>\n",
       "      <td>2</td>\n",
       "      <td>184</td>\n",
       "    </tr>\n",
       "    <tr>\n",
       "      <th>26</th>\n",
       "      <td>2</td>\n",
       "      <td>2</td>\n",
       "      <td>173</td>\n",
       "    </tr>\n",
       "    <tr>\n",
       "      <th>27</th>\n",
       "      <td>0</td>\n",
       "      <td>0</td>\n",
       "      <td>191</td>\n",
       "    </tr>\n",
       "    <tr>\n",
       "      <th>28</th>\n",
       "      <td>1</td>\n",
       "      <td>2</td>\n",
       "      <td>185</td>\n",
       "    </tr>\n",
       "  </tbody>\n",
       "</table>\n",
       "</div>"
      ],
      "text/plain": [
       "    y_true  y_pred video_id\n",
       "0        0       0      192\n",
       "1        2       2      170\n",
       "2        1       1      161\n",
       "3        2       2      160\n",
       "4        2       2      193\n",
       "5        0       0      176\n",
       "6        1       1      186\n",
       "7        2       2      163\n",
       "8        2       1      167\n",
       "9        0       0      171\n",
       "10       2       2      160\n",
       "11       2       2      188\n",
       "12       1       1      159\n",
       "13       0       0      169\n",
       "14       2       2      193\n",
       "15       2       2      173\n",
       "16       2       1      167\n",
       "17       2       0      184\n",
       "18       1       1      157\n",
       "19       2       2      182\n",
       "20       2       2      160\n",
       "21       2       1      187\n",
       "22       2       2      184\n",
       "23       1       1      166\n",
       "24       0       0      158\n",
       "25       2       2      184\n",
       "26       2       2      173\n",
       "27       0       0      191\n",
       "28       1       2      185"
      ]
     },
     "execution_count": 18,
     "metadata": {},
     "output_type": "execute_result"
    }
   ],
   "source": [
    "from sklearn.metrics import accuracy_score,classification_report\n",
    "import pandas as pd\n",
    "import glob\n",
    "\n",
    "#check data\n",
    "df = pd.DataFrame(list(zip(y_true,y_pred,vid_code)),columns =['y_true','y_pred','video_id'])\n",
    "df.to_csv('df.csv',encoding='utf-8',index=False)\n",
    "df.head(29)"
   ]
  },
  {
   "cell_type": "code",
   "execution_count": 19,
   "id": "64315d79",
   "metadata": {
    "_cell_guid": "f8d87d7d-4ec6-4389-8db8-2368bcdd40a6",
    "_uuid": "e91f5b39-29fc-4f45-8ef6-36572c8b0385",
    "collapsed": false,
    "execution": {
     "iopub.execute_input": "2021-11-21T15:00:00.620876Z",
     "iopub.status.busy": "2021-11-21T15:00:00.619806Z",
     "iopub.status.idle": "2021-11-21T15:00:00.627706Z",
     "shell.execute_reply": "2021-11-21T15:00:00.628154Z",
     "shell.execute_reply.started": "2021-11-21T14:27:09.621566Z"
    },
    "jupyter": {
     "outputs_hidden": false
    },
    "papermill": {
     "duration": 2.853334,
     "end_time": "2021-11-21T15:00:00.628333",
     "exception": false,
     "start_time": "2021-11-21T14:59:57.774999",
     "status": "completed"
    },
    "tags": []
   },
   "outputs": [
    {
     "name": "stdout",
     "output_type": "stream",
     "text": [
      "The number of videos is 39 \n",
      "\n",
      "['175', '185', '191', '188', '157', '163', '162', '169', '178', '187', '158', '177', '194', '186', '180', '172', '181', '192', '193', '168', '171', '159', '173', '166', '179', '195', '174', '167', '164', '189', '161', '160', '183', '182', '184', '165', '176', '170', '190']\n"
     ]
    }
   ],
   "source": [
    "from statistics import mode\n",
    "vid_list = list(set(df['video_id'].values))\n",
    "\n",
    "total = len(vid_list)\n",
    "print(\"The number of videos is {} \\n\".format(total))\n",
    "print(vid_list)"
   ]
  },
  {
   "cell_type": "code",
   "execution_count": 20,
   "id": "f5812b23",
   "metadata": {
    "_cell_guid": "f0786ad2-4a32-4a1d-94ef-97ed738b5bb8",
    "_uuid": "c246b92a-8f9c-47f7-af62-224b3149a9eb",
    "collapsed": false,
    "execution": {
     "iopub.execute_input": "2021-11-21T15:00:04.958457Z",
     "iopub.status.busy": "2021-11-21T15:00:04.957531Z",
     "iopub.status.idle": "2021-11-21T15:00:04.996390Z",
     "shell.execute_reply": "2021-11-21T15:00:04.995913Z",
     "shell.execute_reply.started": "2021-11-21T14:27:09.629808Z"
    },
    "jupyter": {
     "outputs_hidden": false
    },
    "papermill": {
     "duration": 2.178963,
     "end_time": "2021-11-21T15:00:04.996509",
     "exception": false,
     "start_time": "2021-11-21T15:00:02.817546",
     "status": "completed"
    },
    "tags": []
   },
   "outputs": [],
   "source": [
    "y_true = []\n",
    "y_pred = []\n",
    "for vid in vid_list:\n",
    "    #print(vid)\n",
    "    tmp_df = df[df['video_id'] == vid]\n",
    "    #print(len(tmp_df))\n",
    "    vid_pred = tmp_df['y_pred'].mode().values[0]\n",
    "    vid_label = tmp_df['y_true'].mode().values[0]\n",
    "    y_true.append(vid_label)\n",
    "    y_pred.append(vid_pred)"
   ]
  },
  {
   "cell_type": "markdown",
   "id": "bef42684",
   "metadata": {
    "_cell_guid": "c70b91a2-92a5-4f99-a33b-7a67d1aaace9",
    "_uuid": "cb16fc21-95b3-4ec9-b016-4aaee1cb3779",
    "papermill": {
     "duration": 2.154625,
     "end_time": "2021-11-21T15:00:09.304324",
     "exception": false,
     "start_time": "2021-11-21T15:00:07.149699",
     "status": "completed"
    },
    "tags": []
   },
   "source": [
    "Video prediction results based on voting predicted frame's labels"
   ]
  },
  {
   "cell_type": "code",
   "execution_count": 21,
   "id": "3e7e2303",
   "metadata": {
    "_cell_guid": "d955d05a-5393-48f2-8597-4b6cc7ed3b25",
    "_uuid": "1ad1603d-8635-4b36-91ee-4160753b2444",
    "collapsed": false,
    "execution": {
     "iopub.execute_input": "2021-11-21T15:00:13.894715Z",
     "iopub.status.busy": "2021-11-21T15:00:13.894032Z",
     "iopub.status.idle": "2021-11-21T15:00:13.896732Z",
     "shell.execute_reply": "2021-11-21T15:00:13.897124Z",
     "shell.execute_reply.started": "2021-11-21T14:27:09.684449Z"
    },
    "jupyter": {
     "outputs_hidden": false
    },
    "papermill": {
     "duration": 2.160956,
     "end_time": "2021-11-21T15:00:13.897279",
     "exception": false,
     "start_time": "2021-11-21T15:00:11.736323",
     "status": "completed"
    },
    "tags": []
   },
   "outputs": [
    {
     "data": {
      "text/plain": [
       "0.8974358974358975"
      ]
     },
     "execution_count": 21,
     "metadata": {},
     "output_type": "execute_result"
    }
   ],
   "source": [
    "accuracy_score(y_true,y_pred)"
   ]
  },
  {
   "cell_type": "markdown",
   "id": "47604fde",
   "metadata": {
    "_cell_guid": "0bfec5ce-4707-4111-8247-6bb415083b50",
    "_uuid": "aad2b71f-37a3-414c-a150-763afd8e4afa",
    "papermill": {
     "duration": 2.216151,
     "end_time": "2021-11-21T15:00:18.269327",
     "exception": false,
     "start_time": "2021-11-21T15:00:16.053176",
     "status": "completed"
    },
    "tags": []
   },
   "source": [
    "* CHART"
   ]
  },
  {
   "cell_type": "code",
   "execution_count": 22,
   "id": "9f54e078",
   "metadata": {
    "_cell_guid": "e156008e-3dbc-4fe0-8eb9-edcb71228b1c",
    "_uuid": "bcba2aad-bc11-4122-b59d-dba9043c8991",
    "collapsed": false,
    "execution": {
     "iopub.execute_input": "2021-11-21T15:00:22.967938Z",
     "iopub.status.busy": "2021-11-21T15:00:22.936010Z",
     "iopub.status.idle": "2021-11-21T15:00:23.188392Z",
     "shell.execute_reply": "2021-11-21T15:00:23.187924Z",
     "shell.execute_reply.started": "2021-11-21T14:27:09.694233Z"
    },
    "jupyter": {
     "outputs_hidden": false
    },
    "papermill": {
     "duration": 2.703624,
     "end_time": "2021-11-21T15:00:23.188518",
     "exception": false,
     "start_time": "2021-11-21T15:00:20.484894",
     "status": "completed"
    },
    "tags": []
   },
   "outputs": [
    {
     "data": {
      "image/png": "[encoded data removed]",
      "text/plain": [
       "<Figure size 432x288 with 2 Axes>"
      ]
     },
     "metadata": {
      "needs_background": "light"
     },
     "output_type": "display_data"
    }
   ],
   "source": [
    "def plot_history(history,loss,acc): \n",
    "    fig, ax1 = plt.subplots()\n",
    "    \n",
    "    ax1.plot(loss, 'r', label=\"training loss\")\n",
    "    ax1.grid(True)\n",
    "    ax1.set_xlabel('iteration')\n",
    "    ax1.set_ylabel('loss', color='r')\n",
    "    ax1.legend(loc=\"best\", fontsize=9)    \n",
    "    ax1.tick_params('y', colors='r')\n",
    "\n",
    "    ax2 = ax1.twinx()\n",
    "    ax2.plot(acc, 'b', label=\"training acc\")\n",
    "    ax2.legend(loc=\"lower right\", fontsize=9)\n",
    "    ax2.set_ylabel('acc', color='b')        \n",
    "    ax2.tick_params('y', colors='b')\n",
    "plot_history(model,loss,acc)"
   ]
  }
 ],
 "metadata": {
  "kernelspec": {
   "display_name": "Python 3",
   "language": "python",
   "name": "python3"
  },
  "language_info": {
   "codemirror_mode": {
    "name": "ipython",
    "version": 3
   },
   "file_extension": ".py",
   "mimetype": "text/x-python",
   "name": "python",
   "nbconvert_exporter": "python",
   "pygments_lexer": "ipython3",
   "version": "3.7.10"
  },
  "papermill": {
   "default_parameters": {},
   "duration": 1524.468061,
   "end_time": "2021-11-21T15:00:26.801977",
   "environment_variables": {},
   "exception": null,
   "input_path": "__notebook__.ipynb",
   "output_path": "__notebook__.ipynb",
   "parameters": {},
   "start_time": "2021-11-21T14:35:02.333916",
   "version": "2.3.3"
  }
 },
 "nbformat": 4,
 "nbformat_minor": 5
}
